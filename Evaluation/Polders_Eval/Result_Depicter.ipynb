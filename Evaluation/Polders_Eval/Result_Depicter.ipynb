{
 "cells": [
  {
   "cell_type": "markdown",
   "id": "02b85df6",
   "metadata": {},
   "source": [
    "# |--------------------------------------------|\n",
    "# | Jupiter Notebook POLDERs Evaluation |\n",
    "# |--------------------------------------------|"
   ]
  },
  {
   "cell_type": "markdown",
   "id": "2b5ebac9",
   "metadata": {
    "tags": []
   },
   "source": [
    "# 1) Imports\n",
    "Alwas execute this cell to ensure that the modules are loaded in! "
   ]
  },
  {
   "cell_type": "code",
   "execution_count": null,
   "id": "5489c26f",
   "metadata": {},
   "outputs": [],
   "source": [
    "import data #Module for data storage \n",
    "import os #for getcwd()\n",
    "import matplotlib as mpl\n",
    "import matplotlib.pyplot as plt \n",
    "import numpy as np\n",
    "from data import POLDERs_data #to access some static methods\n",
    "from IPython.display import clear_output\n",
    "import eval_methods as ev \n",
    "from data import calc_Complex_Phaseangle\n",
    "import matplotlib.ticker as mtick\n",
    "import matplotlib.gridspec as gridspec\n",
    "import copy\n",
    "import pandas as pd\n",
    "\n",
    "plt.style.use('classic')\n",
    "\n",
    "%load_ext autoreload\n",
    "%autoreload\n",
    "%matplotlib widget"
   ]
  },
  {
   "cell_type": "markdown",
   "id": "b16b6e09",
   "metadata": {},
   "source": [
    "# "
   ]
  },
  {
   "cell_type": "markdown",
   "id": "bbc17fc9",
   "metadata": {
    "tags": [],
    "toc-hr-collapsed": true
   },
   "source": [
    "# 2) Read in Sample Record and Create data structure - Mandatory "
   ]
  },
  {
   "cell_type": "markdown",
   "id": "294596b0",
   "metadata": {
    "toc-hr-collapsed": true
   },
   "source": [
    "### Option 1: Read in from Ecxel File (directory needed)"
   ]
  },
  {
   "cell_type": "code",
   "execution_count": null,
   "id": "d9b6fab4",
   "metadata": {},
   "outputs": [],
   "source": [
    "samples = data.POLDERs_data(r'D:\\OneDrive_Studmail\\Documents\\MU\\MSc_Thesis\\Measurements')"
   ]
  },
  {
   "cell_type": "markdown",
   "id": "544f7372",
   "metadata": {},
   "source": [
    "### Option 2: Read in data from previous session "
   ]
  },
  {
   "cell_type": "code",
   "execution_count": null,
   "id": "be37da2f",
   "metadata": {
    "scrolled": true
   },
   "outputs": [],
   "source": [
    "samples = data.POLDERs_data()"
   ]
  },
  {
   "cell_type": "markdown",
   "id": "89e3de7c",
   "metadata": {},
   "source": [
    "### Show a specific part of the samplew record"
   ]
  },
  {
   "cell_type": "code",
   "execution_count": null,
   "id": "a16f54da-3aa7-4092-b5d8-11e533cece3a",
   "metadata": {},
   "outputs": [],
   "source": [
    "samplename = '23_BZT_20'\n",
    "mode = 'SS_PFM'\n",
    "\n",
    "sr = samples.get_SampleRecord_table(samplename, mode)\n",
    "sr"
   ]
  },
  {
   "cell_type": "markdown",
   "id": "d4b8f9a7",
   "metadata": {
    "tags": [],
    "toc-hr-collapsed": true
   },
   "source": [
    "# 3) Read all Samples in / Update Database\n",
    "This is optional, only needed when new data files are added to rawdata folder or when calc methods change"
   ]
  },
  {
   "cell_type": "markdown",
   "id": "e4e75c31",
   "metadata": {},
   "source": [
    "### Operation 1: Read in the whole database from rawdata"
   ]
  },
  {
   "cell_type": "code",
   "execution_count": null,
   "id": "fd549e49",
   "metadata": {
    "scrolled": true
   },
   "outputs": [],
   "source": [
    "samples.read_SS_PFM_database()"
   ]
  },
  {
   "cell_type": "markdown",
   "id": "24a0a5b9",
   "metadata": {},
   "source": [
    "### Operation 2: Recalculate all response values\n",
    "For all samples: "
   ]
  },
  {
   "cell_type": "code",
   "execution_count": null,
   "id": "29e62151",
   "metadata": {},
   "outputs": [],
   "source": [
    "samplenames = samples.get_Samplenames()\n",
    "\n",
    "for samplename in samplenames: \n",
    "    sample = samples.get_SS_PFM_Object(samplename)\n",
    "    sample.calc_all_Responses()"
   ]
  },
  {
   "cell_type": "markdown",
   "id": "61a268eb",
   "metadata": {},
   "source": [
    "For a specific sample: "
   ]
  },
  {
   "cell_type": "code",
   "execution_count": null,
   "id": "ee591617",
   "metadata": {
    "tags": []
   },
   "outputs": [],
   "source": [
    "#Enter samplename\n",
    "samplename = '1_BZT_10'\n",
    "log = False\n",
    "# ============================================\n",
    "\n",
    "sample = samples.get_SS_PFM_Object(samplename)\n",
    "sample.calc_all_Responses(log=log)"
   ]
  },
  {
   "cell_type": "markdown",
   "id": "05e24cde",
   "metadata": {},
   "source": [
    "### Operation 3: Recalculate all auxiliary statistical data, and Responsefit for all samples \n",
    "For all samples: "
   ]
  },
  {
   "cell_type": "code",
   "execution_count": null,
   "id": "67033b16",
   "metadata": {
    "scrolled": true
   },
   "outputs": [],
   "source": [
    "samplenames = samples.get_Samplenames()\n",
    "\n",
    "for samplename in samplenames: \n",
    "    sample = samples.get_SS_PFM_Object(samplename)\n",
    "    sample.calc_all_Statistic()"
   ]
  },
  {
   "cell_type": "markdown",
   "id": "b240b3df",
   "metadata": {},
   "source": [
    "For one specific sample: "
   ]
  },
  {
   "cell_type": "code",
   "execution_count": null,
   "id": "58fe832c",
   "metadata": {
    "tags": []
   },
   "outputs": [],
   "source": [
    "#Enter samplename\n",
    "samplename = '1_BZT_10'\n",
    "\n",
    "sample = samples.get_SS_PFM_Object(samplename)\n",
    "sample.calc_all_Statistic()"
   ]
  },
  {
   "cell_type": "markdown",
   "id": "e1eb06fe-f438-4012-ac70-1df8727500a7",
   "metadata": {},
   "source": [
    "### Drop a forcemap"
   ]
  },
  {
   "cell_type": "code",
   "execution_count": null,
   "id": "56a4b888-9821-4413-bf95-dd5ea326ffb7",
   "metadata": {},
   "outputs": [],
   "source": [
    "#Enter samplename and filename\n",
    "samplename = '8_BNT_15'\n",
    "filename = 'BNT_15_24'\n",
    "\n",
    "sample = samples.get_SS_PFM_Object(samplename)\n",
    "sample.drop_Forcemap(filename)\n",
    "sample.save()"
   ]
  },
  {
   "cell_type": "markdown",
   "id": "cca2de1c-d814-4a3a-ae54-16c9a989b1a6",
   "metadata": {},
   "source": [
    "### Drop a multiple forcemaps"
   ]
  },
  {
   "cell_type": "code",
   "execution_count": null,
   "id": "cfddfabc-19a6-4f35-baa2-68ba6d76181f",
   "metadata": {},
   "outputs": [],
   "source": [
    "#Enter samplename and filename\n",
    "samplename = '16_BNZT_2p5_30'\n",
    "filenames = ['BNZT_30_06', 'BNZT_30_07']\n",
    "\n",
    "sample = samples.get_SS_PFM_Object(samplename)\n",
    "for filename in filenames: \n",
    "    sample.drop_Forcemap(filename)\n",
    "sample.save()"
   ]
  },
  {
   "cell_type": "markdown",
   "id": "df9196ea",
   "metadata": {
    "tags": []
   },
   "source": [
    "# "
   ]
  },
  {
   "cell_type": "markdown",
   "id": "2586cb5b",
   "metadata": {
    "tags": [],
    "toc-hr-collapsed": true
   },
   "source": [
    "# 4) SS-PFM-Depicter for forcecurve rawdata figures\n",
    "The sample name is needed: If you don't know the sample name, look them up in the table. \n",
    "\n",
    "The sample name must be submitted as a string in a certain format, e.g: 2_BNT_7"
   ]
  },
  {
   "cell_type": "markdown",
   "id": "3f3ab4ec",
   "metadata": {},
   "source": [
    "### This code must alway be run"
   ]
  },
  {
   "cell_type": "code",
   "execution_count": null,
   "id": "450e66ed",
   "metadata": {},
   "outputs": [],
   "source": [
    "'''Enter sample name below ==> This is the only part of code, \n",
    "that must be manipulated in this cell'''\n",
    "#=======================================\n",
    "samplename = '1_BZT_10' # <== Enter sample name here!\n",
    "#=======================================\n",
    "\n",
    "'''This code shall not be modified'''\n",
    "#Create a manager instance by submitting a sample object\n",
    "manag = ev.SS_PFM_manager({samplename:samples.get_SS_PFM_Object(samplename)})\n",
    "manag.set_active_obj(samplename)\n",
    "_=[print(filename) for filename in manag.get_filenames()] #List comprehension"
   ]
  },
  {
   "cell_type": "markdown",
   "id": "16a85b42",
   "metadata": {},
   "source": [
    "### Option 1: Depict one certain forcecurve\n",
    "You simply need to supply the row index, column index and the forcemap name in the head of the code. The indeces are numbers btw. 0 and 5. The forcemap names can be obtained in the list generated by running the upper cell."
   ]
  },
  {
   "cell_type": "code",
   "execution_count": null,
   "id": "40dea39c",
   "metadata": {},
   "outputs": [],
   "source": [
    "'''Enter the row, column index and filename below ==> This is the only part of code, \n",
    "that must be manipulated in this cell'''\n",
    "#=======================================\n",
    "filename = 'BZT_10_09' # <== Enter filename here!\n",
    "line = 5 # <== Enter row index here!\n",
    "point = 5 # <== Enter column index here!\n",
    "save_fig = False # <== Safes the figure \n",
    "#=======================================\n",
    "\n",
    "'''This code shall not be modified'''\n",
    "manag.plot_Forcecurve(filename, 'raw', 'single', line=line, point=point, save_fig=save_fig)"
   ]
  },
  {
   "cell_type": "code",
   "execution_count": null,
   "id": "c86c390e-6e04-4eaf-abf8-b722966ada98",
   "metadata": {},
   "outputs": [],
   "source": [
    "np.array([[3,4]]).shape"
   ]
  },
  {
   "cell_type": "markdown",
   "id": "c083cd93",
   "metadata": {},
   "source": [
    "### Option 2: Depict all forcecurves\n",
    "You simply need to supply the forcemap name in the head of the code. The forcemap names can be obtained in the list generated by running the upper cell."
   ]
  },
  {
   "cell_type": "code",
   "execution_count": null,
   "id": "691af9d5",
   "metadata": {
    "scrolled": true,
    "tags": []
   },
   "outputs": [],
   "source": [
    "'''Enter filename below ==> This is the only part of code, \n",
    "that must be manipulated in this cell'''\n",
    "#=======================================\n",
    "filename = 'BZT_10_11' # <== Enter filename here!\n",
    "save_fig = False # <== Safes the figure \n",
    "#=======================================\n",
    "\n",
    "'''This code shall not be modified'''\n",
    "for row in range(6):\n",
    "    for column in range(6):\n",
    "        manag.plot_Forcecurve(filename, 'raw', 'single', line=row, point=column, save_fig=save_fig)"
   ]
  },
  {
   "cell_type": "markdown",
   "id": "3cfc2937",
   "metadata": {},
   "source": [
    "# "
   ]
  },
  {
   "cell_type": "markdown",
   "id": "63cea7dd",
   "metadata": {
    "tags": [],
    "toc-hr-collapsed": true
   },
   "source": [
    "# 5) SS-PFM-Depicter for forcecurve superimposed rawdata figures\n",
    "The sample name is needed: If you don't know the sample name, look them up in the table. \n",
    "\n",
    "The sample name must be submitted as a string in a certain format, e.g: 2_BNT_7"
   ]
  },
  {
   "cell_type": "markdown",
   "id": "25097712",
   "metadata": {},
   "source": [
    "### This code must alway be run"
   ]
  },
  {
   "cell_type": "code",
   "execution_count": null,
   "id": "96039cf0",
   "metadata": {},
   "outputs": [],
   "source": [
    "'''Enter sample name below ==> This is the only part of code, \n",
    "that must be manipulated in this cell'''\n",
    "#=======================================\n",
    "samplename = '23_BZT_20' # <== Enter sample name here!\n",
    "#=======================================\n",
    "\n",
    "'''This code shall not be modified'''\n",
    "#Create a manager instance by submitting a sample object\n",
    "manag = ev.SS_PFM_manager({samplename:samples.get_SS_PFM_Object(samplename)})\n",
    "manag.set_active_obj(samplename)\n",
    "_=[print(filename) for filename in manag.get_filenames()] #List comprehension"
   ]
  },
  {
   "cell_type": "markdown",
   "id": "f54bc936",
   "metadata": {},
   "source": [
    "### Option 1: Depict one certain forcemap\n",
    "You simply need to supply the forcemap name in the head of the code. The forcemap names can be obtained in the list generated by running the upper cell."
   ]
  },
  {
   "cell_type": "code",
   "execution_count": null,
   "id": "854fd6fe",
   "metadata": {},
   "outputs": [],
   "source": [
    "'''Enter the row, column index and filename below ==> This is the only part of code, \n",
    "that must be manipulated in this cell'''\n",
    "#=======================================\n",
    "filename = 'BZT_10_03' # <== Enter filename here!\n",
    "save_fig = False # <== Safes the figure \n",
    "#=======================================\n",
    "\n",
    "'''This code shall not be modified'''\n",
    "manag.plot_Forcecurve(filename, 'raw', 'super', save_fig=save_fig)"
   ]
  },
  {
   "cell_type": "markdown",
   "id": "e86796b5",
   "metadata": {},
   "source": [
    "### Option 2: Depict all forcecurves\n",
    "Depicts the temperature dependent forcemap of a sample."
   ]
  },
  {
   "cell_type": "code",
   "execution_count": null,
   "id": "f7c11804",
   "metadata": {
    "scrolled": true
   },
   "outputs": [],
   "source": [
    "'''Enter sample name below ==> This is the only part of code, \n",
    "that must be manipulated in this cell'''\n",
    "#=======================================\n",
    "samplename = '23_BZT_20' # <== Enter sample name here!\n",
    "save_fig = False # <== Safes the figure \n",
    "#=======================================\n",
    "\n",
    "'''This code shall not be modified'''\n",
    "#Create a manager instance by submitting a sample object\n",
    "manag = ev.SS_PFM_manager({samplename:samples.get_SS_PFM_Object(samplename)})\n",
    "manag.set_active_obj(samplename)\n",
    "filenames = manag.get_filenames()\n",
    "for filename in filenames: \n",
    "    manag.plot_Forcecurve(filename, 'raw', 'super', save_fig=save_fig)"
   ]
  },
  {
   "cell_type": "markdown",
   "id": "31a10e38",
   "metadata": {},
   "source": [
    "# "
   ]
  },
  {
   "cell_type": "markdown",
   "id": "bded361f",
   "metadata": {
    "toc-hr-collapsed": true
   },
   "source": [
    "# 6) SS-PFM-Depicter for forcecurve response figures\n",
    "The sample name is needed: If you don't know the sample name, look them up in the table. \n",
    "\n",
    "The sample name must be submitted as a string in a certain format, e.g: 2_BNT_7"
   ]
  },
  {
   "cell_type": "markdown",
   "id": "98145d7c",
   "metadata": {},
   "source": [
    "### This code must alway be run"
   ]
  },
  {
   "cell_type": "code",
   "execution_count": null,
   "id": "949a280d",
   "metadata": {},
   "outputs": [],
   "source": [
    "'''Enter sample name below ==> This is the only part of code, \n",
    "that must be manipulated in this cell'''\n",
    "#=======================================\n",
    "samplename = '1_BZT_10' # <== Enter sample name here!\n",
    "#=======================================\n",
    "\n",
    "'''This code shall not be modified'''\n",
    "#Create a manager instance by submitting a sample object\n",
    "manag = ev.SS_PFM_manager({samplename:samples.get_SS_PFM_Object(samplename)})\n",
    "manag.set_active_obj(samplename)\n",
    "_=[print(filename) for filename in manag.get_filenames()] #List comprehension"
   ]
  },
  {
   "cell_type": "markdown",
   "id": "492f7219",
   "metadata": {},
   "source": [
    "### Option 1: Depict one certain forcecurve\n",
    "You simply need to supply the row index, column index and the forcemap name in the head of the code. The indeces are numbers btw. 0 and 5. The forcemap names can be obtained in the list generated by running the upper cell."
   ]
  },
  {
   "cell_type": "code",
   "execution_count": null,
   "id": "da422746",
   "metadata": {},
   "outputs": [],
   "source": [
    "'''Enter the row, column index and filename below ==> This is the only part of code, \n",
    "that must be manipulated in this cell'''\n",
    "#=======================================\n",
    "filename = 'BNT_2p5_00' # <== Enter filename here!\n",
    "line = 1 # <== Enter row index here!\n",
    "point = 4 # <== Enter column index here!\n",
    "save_fig = False # <== Decide if the figure is saved in the desired folder\n",
    "#=======================================\n",
    "\n",
    "'''This code shall not be modified'''\n",
    "manag.plot_Forcecurve(filename,'response','single', line=line, point=point, save_fig=save_fig)"
   ]
  },
  {
   "cell_type": "markdown",
   "id": "38b31715",
   "metadata": {},
   "source": [
    "### Option 2: Depict all forcecurves\n",
    "You simply need to supply the forcemap name in the head of the code. The forcemap names can be obtained in the list generated by running the upper cell."
   ]
  },
  {
   "cell_type": "code",
   "execution_count": null,
   "id": "63a7f21b",
   "metadata": {
    "scrolled": true,
    "tags": []
   },
   "outputs": [],
   "source": [
    "'''Enter filename below ==> This is the only part of code, \n",
    "that must be manipulated in this cell'''\n",
    "#=======================================\n",
    "filename = 'BZT_10_10' # <== Enter filename here!\n",
    "save_fig = False # <== Safes the figure \n",
    "#=======================================\n",
    "\n",
    "'''This code shall not be modified'''\n",
    "for row in range(6):\n",
    "    for column in range(6):\n",
    "        manag.plot_Forcecurve(filename, 'response','single', line=row, point=column, save_fig=save_fig)"
   ]
  },
  {
   "cell_type": "markdown",
   "id": "14c580fc",
   "metadata": {},
   "source": [
    "# "
   ]
  },
  {
   "cell_type": "markdown",
   "id": "c86ad505",
   "metadata": {
    "toc-hr-collapsed": true
   },
   "source": [
    "# 7) SS-PFM-Depicter for forcecurve superimposed response figures\n",
    "The sample name is needed: If you don't know the sample name, look them up in the table. \n",
    "\n",
    "The sample name must be submitted as a string in a certain format, e.g: 2_BNT_7"
   ]
  },
  {
   "cell_type": "markdown",
   "id": "b5645460",
   "metadata": {},
   "source": [
    "### This code must alway be run"
   ]
  },
  {
   "cell_type": "code",
   "execution_count": null,
   "id": "d7ba89f8",
   "metadata": {},
   "outputs": [],
   "source": [
    "'''Enter sample name below ==> This is the only part of code, \n",
    "that must be manipulated in this cell'''\n",
    "#=======================================\n",
    "samplename = '5_BNT_5' # <== Enter sample name here!\n",
    "#=======================================\n",
    "\n",
    "'''This code shall not be modified'''\n",
    "#Create a manager instance by submitting a sample object\n",
    "manag = ev.SS_PFM_manager({samplename:samples.get_SS_PFM_Object(samplename)})\n",
    "manag.set_active_obj(samplename)\n",
    "_=[print(filename) for filename in manag.get_filenames()] #List comprehension"
   ]
  },
  {
   "cell_type": "markdown",
   "id": "d804cfac",
   "metadata": {},
   "source": [
    "### Option 1: Depict one certain forcemap\n",
    "You simply need to supply the forcemap name in the head of the code. The forcemap names can be obtained in the list generated by running the upper cell."
   ]
  },
  {
   "cell_type": "code",
   "execution_count": null,
   "id": "c93ab697",
   "metadata": {},
   "outputs": [],
   "source": [
    "'''Enter the row, column index and filename below ==> This is the only part of code, \n",
    "that must be manipulated in this cell'''\n",
    "#=======================================\n",
    "filename = 'BNT_5_03' # <== Enter filename here!\n",
    "save_fig = False # <== Safes the figure \n",
    "#=======================================\n",
    "\n",
    "'''This code shall not be modified'''\n",
    "manag.plot_Forcecurve(filename, 'response', 'super', save_fig=save_fig)"
   ]
  },
  {
   "cell_type": "markdown",
   "id": "58b20b0d",
   "metadata": {},
   "source": [
    "### Option 2: Depict all forcecurves\n",
    "Depicts the temperature dependent forcemap of a sample."
   ]
  },
  {
   "cell_type": "code",
   "execution_count": null,
   "id": "ca36afae",
   "metadata": {
    "scrolled": true
   },
   "outputs": [],
   "source": [
    "'''Enter sample name below ==> This is the only part of code, \n",
    "that must be manipulated in this cell'''\n",
    "#=======================================\n",
    "samplename = '5_BNT_5' # <== Enter sample name here!\n",
    "save_fig = False # <== Safes the figure \n",
    "#=======================================\n",
    "\n",
    "'''This code shall not be modified'''\n",
    "#Create a manager instance by submitting a sample object\n",
    "manag = ev.SS_PFM_manager({samplename:samples.get_SS_PFM_Object(samplename)})\n",
    "manag.set_active_obj(samplename)\n",
    "filenames = manag.get_filenames()\n",
    "for filename in filenames: \n",
    "    manag.plot_Forcecurve(filename, 'response', 'super', save_fig=save_fig)"
   ]
  },
  {
   "cell_type": "markdown",
   "id": "9c3c995d",
   "metadata": {
    "toc-hr-collapsed": true
   },
   "source": [
    "# 8) SS-PFM-Depicter for evolution of statistical parameters from aux-functions and fitting\n",
    "The sample names are needed: If you don't know the sample name, look them up in the table. \n",
    "\n",
    "The sample name must be submitted as a string in a certain format, e.g: 2_BNT_7"
   ]
  },
  {
   "cell_type": "markdown",
   "id": "5dc03be8",
   "metadata": {},
   "source": [
    "### BZT Series: "
   ]
  },
  {
   "cell_type": "code",
   "execution_count": null,
   "id": "e84c99c9",
   "metadata": {
    "scrolled": true,
    "tags": []
   },
   "outputs": [],
   "source": [
    "#Enter the samplenames here: \n",
    "samplenames = ['0_BT','1_BZT_10', '23_BZT_20', '24_BZT_30', '3_BZT_40']\n",
    "#samplenames = ['1_BZT_10','4_BNT_2p5', '17_BNZT_2p5_10']\n",
    "stat_vals = ['response_Vf', 'response_Vfc_plus', 'response_Vfc_minus', 'response_Vsurf',\n",
    "             'response_Rfs', 'response_Afs', 'response_Imf', 'response_Vc', 'response_Rs', 'response_Rv', 'response_R0', \n",
    "             'response_Ads', 'response_Imd', 'response_sigma-d','response_Rds']\n",
    "\n",
    "dic_obj = {}\n",
    "\n",
    "for samplename in samplenames:\n",
    "    dic_obj[samplename] = samples.get_SS_PFM_Object(samplename)\n",
    "\n",
    "manag = ev.SS_PFM_manager(dic_obj)\n",
    "\n",
    "for stat_val in stat_vals: \n",
    "    manag.plot_Forcecurve('', stat_val, 'evol')"
   ]
  },
  {
   "cell_type": "markdown",
   "id": "922c0a9c",
   "metadata": {},
   "source": [
    "### BNT Series"
   ]
  },
  {
   "cell_type": "code",
   "execution_count": null,
   "id": "d5ab3c73",
   "metadata": {
    "scrolled": true,
    "tags": []
   },
   "outputs": [],
   "source": [
    "#Enter the samplenames here: \n",
    "samplenames = ['0_BT','4_BNT_2p5','5_BNT_5', '2_BNT_7', '7_BNT_10','8_BNT_15']\n",
    "stat_vals = ['response_Vf', 'response_Vfc_plus', 'response_Vfc_minus', 'response_Vsurf',\n",
    "             'response_Rfs', 'response_Afs', 'response_Imf', 'response_Vc', 'response_Rs', 'response_Rv', 'response_R0', \n",
    "             'response_Ads', 'response_Imd', 'response_sigma-d','response_Rds']\n",
    "\n",
    "dic_obj = {}\n",
    "\n",
    "for samplename in samplenames:\n",
    "    dic_obj[samplename] = samples.get_SS_PFM_Object(samplename)\n",
    "\n",
    "manag = ev.SS_PFM_manager(dic_obj)\n",
    "#f_kwargs = [[{'presort':False},{'presort':False}],\n",
    "#            [{'presort':False},{'presort':False}]]\n",
    "\n",
    "for stat_val in stat_vals: \n",
    "    manag.plot_Forcecurve('', stat_val, 'evol') #functions_kwargs_ext=f_kwargs)"
   ]
  },
  {
   "cell_type": "markdown",
   "id": "aa6ab09c",
   "metadata": {},
   "source": [
    "### BNZT Series"
   ]
  },
  {
   "cell_type": "code",
   "execution_count": null,
   "id": "97966865",
   "metadata": {
    "scrolled": true,
    "tags": []
   },
   "outputs": [],
   "source": [
    "#Enter the samplenames here: \n",
    "samplenames = ['0_BT','17_BNZT_2p5_10','18_BNZT_2p5_20', '16_BNZT_2p5_30']\n",
    "stat_vals = ['response_Vf', 'response_Vfc_plus', 'response_Vfc_minus', 'response_Vsurf',\n",
    "             'response_Rfs', 'response_Afs', 'response_Imf', 'response_Vc', 'response_Rs', 'response_Rv', 'response_R0', \n",
    "             'response_Ads', 'response_Imd', 'response_sigma-d','response_Rds']\n",
    "\n",
    "dic_obj = {}\n",
    "\n",
    "for samplename in samplenames:\n",
    "    dic_obj[samplename] = samples.get_SS_PFM_Object(samplename)\n",
    "\n",
    "manag = ev.SS_PFM_manager(dic_obj)\n",
    "#f_kwargs = [[{'presort':False},{'presort':False}],\n",
    "            #[{'presort':False},{'presort':False}]]\n",
    "\n",
    "for stat_val in stat_vals: \n",
    "    manag.plot_Forcecurve('', stat_val, 'evol') #functions_kwargs_ext=f_kwargs)"
   ]
  },
  {
   "cell_type": "markdown",
   "id": "46708562",
   "metadata": {},
   "source": [
    "### Vc - R0 - Ads - Generator: Stepwise"
   ]
  },
  {
   "cell_type": "code",
   "execution_count": null,
   "id": "b9fc320b",
   "metadata": {
    "tags": []
   },
   "outputs": [],
   "source": [
    "#Choose the series by uncommenting \n",
    "samplenames = ['0_BT','1_BZT_10', '23_BZT_20', '24_BZT_30','3_BZT_40']\n",
    "#samplenames = ['0_BT','4_BNT_2p5','5_BNT_5', '2_BNT_7', '7_BNT_10','8_BNT_15']\n",
    "#samplenames = ['0_BT','17_BNZT_2p5_10','18_BNZT_2p5_20', '16_BNZT_2p5_30']\n",
    "\n",
    "\n",
    "f_kwargs = [[{'args_xlim':(20,190), 'args_ylim':(0,None), 'kwargs_legend':dict(loc='upper right')}, \n",
    "             {'args_xlim':(20,190), 'args_ylim':(0,None),'kwargs_legend':dict(loc='upper right')}, \n",
    "             {'args_xlim':(20,190), 'args_ylim':(0,None), 'kwargs_legend':dict(loc='upper right')}],\n",
    "            [{'args_xlim':(20,190), 'args_ylim':(0,None), 'kwargs_legend':dict(loc='upper right')}, \n",
    "             {'args_xlim':(20,180), 'args_ylim':(0,None), 'kwargs_legend':dict(loc='upper right')}, \n",
    "             {'args_xlim':(20,190), 'args_ylim':(0,None), 'kwargs_legend':dict(loc='upper right')}]]\n",
    "\n",
    "sn_list = []\n",
    "\n",
    "for samplename in samplenames:\n",
    "    dic_obj = {}\n",
    "    sn_list.append(samplename)\n",
    "    for sn in sn_list:\n",
    "        dic_obj[sn] = samples.get_SS_PFM_Object(sn)\n",
    "        manag = ev.SS_PFM_manager(dic_obj)\n",
    "    fig, ax, lo = manag.plot_Forcecurve('', 'response_C_Vf_Rfs_Afs', 'evol', yerr=True, \n",
    "                                        functions_kwargs_ext=f_kwargs)\n",
    "    rows = len(lo)\n",
    "    for row in range(rows): \n",
    "        cols = len(lo[row])\n",
    "        for col in range(cols): \n",
    "            les = len(lo[row][col])-1\n",
    "            for le in range(les): \n",
    "                lo[row][col][le][0].set_alpha(0.3)\n",
    "                lo[row][col][le][2][0].set_alpha(0.0)\n",
    "            lo[row][col][-1][2][0].set_alpha(0.5)\n",
    "fig, ax, lo = manag.plot_Forcecurve('', 'response_C_Vf_Rfs_Afs', 'evol', functions_kwargs_ext=f_kwargs)            \n"
   ]
  },
  {
   "cell_type": "code",
   "execution_count": null,
   "id": "30e631a2-ed59-47d4-a150-359303b0c181",
   "metadata": {},
   "outputs": [],
   "source": [
    "os.getcwd()"
   ]
  },
  {
   "cell_type": "markdown",
   "id": "587f976e-9489-4ccc-8b71-e40a2718fbc9",
   "metadata": {},
   "source": [
    "### Vc - R0 - Ads - flag Generator: superimposed"
   ]
  },
  {
   "cell_type": "code",
   "execution_count": null,
   "id": "424bf873-8500-411b-a38f-12bdc74e5629",
   "metadata": {
    "tags": []
   },
   "outputs": [],
   "source": [
    "# Saving options\n",
    "save = True\n",
    "dpi = 175\n",
    "labelsize = 'x-large'\n",
    "titlesize = 17\n",
    "titleweight = 'bold'\n",
    "\n",
    "\n",
    "#Choose the series by uncommenting \n",
    "systems = [['0_BT'] ,['0_BT','1_BZT_10', '23_BZT_20', '3_BZT_40'], ['0_BT','4_BNT_2p5','5_BNT_5', '2_BNT_7', '7_BNT_10','8_BNT_15'], ['0_BT','17_BNZT_2p5_10','18_BNZT_2p5_20', '16_BNZT_2p5_30']]\n",
    "labels = [['Pure BT'],['0% Zr', '10% Zr', '20% Zr', '40% Zr'], ['0% Nb', '2.5% Nb', '5% Nb', '7% Nb', '10% Nb', '15% Nb'], ['0% Zr, 0% Nb', '10% Zr, 2.5% Nb', '20% Zr, 2.5% Nb', '30% Zr, 2.5% Nb']]\n",
    "filenames = ['BT_SS-PFM' ,'BZT_SS-PFM', 'BNT_SS-PFM', 'BNZT_SS-PFM']\n",
    "f_kwargs = [[[{'args_xlim':(20,180), 'args_ylim':(0,None), 'kwargs_legend':dict(loc='upper right', fontsize='medium'), 'legend':False, 'kwargs_ylabel':dict(fontsize=labelsize), 'kwargs_title':dict(fontsize=titlesize, weight=titleweight)}, \n",
    "              {'args_xlim':(20,180), 'args_ylim':(0,None),'kwargs_legend':dict(loc='upper right'), 'legend':False, 'kwargs_ylabel':dict(fontsize=labelsize), 'kwargs_title':dict(fontsize=titlesize, weight=titleweight)}], \n",
    "             [{'args_xlim':(20,180), 'args_ylim':(0,None), 'kwargs_legend':dict(loc='upper right'), 'legend':False, 'kwargs_ylabel':dict(fontsize=labelsize), 'kwargs_title':dict(fontsize=titlesize, weight=titleweight)},\n",
    "              {'args_xlim':(20,180), 'args_ylim':(0,None), 'kwargs_legend':dict(loc='upper right'), 'legend':False, 'kwargs_ylabel':dict(fontsize=labelsize), 'kwargs_title':dict(fontsize=titlesize, weight=titleweight)}],\n",
    "             [{'args_xlim':(20,180), 'args_ylim':(0,None), 'kwargs_legend':dict(loc='upper right'), 'legend':False, 'kwargs_ylabel':dict(fontsize=labelsize), 'kwargs_title':dict(fontsize=titlesize, weight=titleweight)}, \n",
    "              {'args_xlim':(20,180), 'args_ylim':(0,None), 'kwargs_legend':dict(loc='upper right'), 'legend':False, 'kwargs_ylabel':dict(fontsize=labelsize), 'kwargs_title':dict(fontsize=titlesize, weight=titleweight)}], \n",
    "             [{'args_xlim':(20,180), 'args_ylim':(0,None), 'yscale_ext':100, 'kwargs_legend':dict(loc='upper right'), 'legend':False, 'kwargs_ylabel':dict(fontsize=labelsize), 'kwargs_xlabel':dict(fontsize=labelsize), 'kwargs_title':dict(fontsize=titlesize, weight=titleweight)},\n",
    "              {'args_xlim':(20,180), 'args_ylim':(0,None), 'yscale_ext':100, 'kwargs_legend':dict(loc='upper right'), 'legend':False, 'kwargs_ylabel':dict(fontsize=labelsize), 'kwargs_xlabel':dict(fontsize=labelsize), 'kwargs_title':dict(fontsize=titlesize, weight=titleweight)}]],\n",
    "            [[{'args_xlim':(20,180), 'args_ylim':(0,None), 'kwargs_legend':dict(loc='upper right', fontsize='medium'), 'kwargs_ylabel':dict(fontsize=labelsize), 'kwargs_title':dict(fontsize=titlesize, weight=titleweight)}, \n",
    "              {'args_xlim':(20,180), 'args_ylim':(0,None),'kwargs_legend':dict(loc='upper right'), 'legend':False, 'kwargs_ylabel':dict(fontsize=labelsize), 'kwargs_title':dict(fontsize=titlesize, weight=titleweight)}], \n",
    "             [{'args_xlim':(20,180), 'args_ylim':(0,None), 'kwargs_legend':dict(loc='upper right'), 'legend':False, 'kwargs_ylabel':dict(fontsize=labelsize), 'kwargs_title':dict(fontsize=titlesize, weight=titleweight)},\n",
    "              {'args_xlim':(20,180), 'args_ylim':(0,None), 'kwargs_legend':dict(loc='upper right'), 'legend':False, 'kwargs_ylabel':dict(fontsize=labelsize), 'kwargs_title':dict(fontsize=titlesize, weight=titleweight)}],\n",
    "             [{'args_xlim':(20,180), 'args_ylim':(0,None), 'kwargs_legend':dict(loc='upper right'), 'legend':False, 'kwargs_ylabel':dict(fontsize=labelsize), 'kwargs_title':dict(fontsize=titlesize, weight=titleweight)}, \n",
    "              {'args_xlim':(20,180), 'args_ylim':(0,None), 'kwargs_legend':dict(loc='upper right'), 'legend':False, 'kwargs_ylabel':dict(fontsize=labelsize), 'kwargs_title':dict(fontsize=titlesize, weight=titleweight)}], \n",
    "             [{'args_xlim':(20,180), 'args_ylim':(0,None), 'yscale_ext':100, 'kwargs_legend':dict(loc='upper right'), 'legend':False, 'kwargs_ylabel':dict(fontsize=labelsize), 'kwargs_xlabel':dict(fontsize=labelsize), 'kwargs_title':dict(fontsize=titlesize, weight=titleweight)},\n",
    "              {'args_xlim':(20,180), 'args_ylim':(0,None), 'yscale_ext':100, 'kwargs_legend':dict(loc='upper right'), 'legend':False, 'kwargs_ylabel':dict(fontsize=labelsize), 'kwargs_xlabel':dict(fontsize=labelsize), 'kwargs_title':dict(fontsize=titlesize, weight=titleweight)}]],\n",
    "            [[{'args_xlim':(20,180), 'args_ylim':(0,None), 'kwargs_legend':dict(loc='upper right'), 'legend':False, 'kwargs_ylabel':dict(fontsize=labelsize), 'kwargs_title':dict(fontsize=titlesize, weight=titleweight)},\n",
    "              {'args_xlim':(20,180), 'args_ylim':(0,None),'kwargs_legend':dict(loc='upper right'), 'legend':False, 'kwargs_ylabel':dict(fontsize=labelsize), 'kwargs_title':dict(fontsize=titlesize, weight=titleweight)}], \n",
    "             [{'args_xlim':(20,180), 'args_ylim':(0,None), 'kwargs_legend':dict(loc='upper right', fontsize='medium'), 'kwargs_ylabel':dict(fontsize=labelsize), 'kwargs_title':dict(fontsize=titlesize, weight=titleweight)},\n",
    "              {'args_xlim':(20,180), 'args_ylim':(0,None), 'kwargs_legend':dict(loc='upper right'), 'legend':False, 'kwargs_ylabel':dict(fontsize=labelsize), 'kwargs_title':dict(fontsize=titlesize, weight=titleweight)}],\n",
    "             [{'args_xlim':(20,180), 'args_ylim':(0,None), 'kwargs_legend':dict(loc='upper right'), 'legend':False, 'kwargs_ylabel':dict(fontsize=labelsize), 'kwargs_title':dict(fontsize=titlesize, weight=titleweight)}, \n",
    "              {'args_xlim':(20,180), 'args_ylim':(0,None), 'kwargs_legend':dict(loc='upper right'), 'legend':False, 'kwargs_ylabel':dict(fontsize=labelsize), 'kwargs_title':dict(fontsize=titlesize, weight=titleweight)}], \n",
    "             [{'args_xlim':(20,180), 'args_ylim':(0,None), 'yscale_ext':100, 'kwargs_legend':dict(loc='upper right'), 'legend':False, 'kwargs_ylabel':dict(fontsize=labelsize), 'kwargs_xlabel':dict(fontsize=labelsize), 'kwargs_title':dict(fontsize=titlesize, weight=titleweight)},\n",
    "              {'args_xlim':(20,180), 'args_ylim':(0,None), 'yscale_ext':100, 'kwargs_legend':dict(loc='upper right'), 'legend':False, 'kwargs_ylabel':dict(fontsize=labelsize), 'kwargs_xlabel':dict(fontsize=labelsize), 'kwargs_title':dict(fontsize=titlesize, weight=titleweight)}]],\n",
    "            [[{'args_xlim':(20,180), 'args_ylim':(0,None), 'kwargs_legend':dict(loc='upper right', fontsize='medium'), 'kwargs_ylabel':dict(fontsize=labelsize), 'kwargs_title':dict(fontsize=titlesize, weight=titleweight)}, \n",
    "              {'args_xlim':(20,180), 'args_ylim':(0,None),'kwargs_legend':dict(loc='upper right'), 'legend':False, 'kwargs_ylabel':dict(fontsize=labelsize), 'kwargs_title':dict(fontsize=titlesize, weight=titleweight)}], \n",
    "             [{'args_xlim':(20,180), 'args_ylim':(0,None), 'kwargs_legend':dict(loc='upper right'), 'legend':False, 'kwargs_ylabel':dict(fontsize=labelsize), 'kwargs_title':dict(fontsize=titlesize, weight=titleweight)},\n",
    "              {'args_xlim':(20,180), 'args_ylim':(0,None), 'kwargs_legend':dict(loc='upper right'), 'legend':False, 'kwargs_ylabel':dict(fontsize=labelsize), 'kwargs_title':dict(fontsize=titlesize, weight=titleweight)}],\n",
    "             [{'args_xlim':(20,180), 'args_ylim':(0,None), 'kwargs_legend':dict(loc='upper right'), 'legend':False, 'kwargs_ylabel':dict(fontsize=labelsize), 'kwargs_title':dict(fontsize=titlesize, weight=titleweight)}, \n",
    "              {'args_xlim':(20,180), 'args_ylim':(0,None), 'kwargs_legend':dict(loc='upper right'), 'legend':False, 'kwargs_ylabel':dict(fontsize=labelsize), 'kwargs_title':dict(fontsize=titlesize, weight=titleweight)}], \n",
    "             [{'args_xlim':(20,180), 'args_ylim':(0,None), 'yscale_ext':100, 'kwargs_legend':dict(loc='upper right'), 'legend':False, 'kwargs_ylabel':dict(fontsize=labelsize), 'kwargs_xlabel':dict(fontsize=labelsize), 'kwargs_title':dict(fontsize=titlesize, weight=titleweight)},\n",
    "              {'args_xlim':(20,180), 'args_ylim':(0,None), 'yscale_ext':100, 'kwargs_legend':dict(loc='upper right'), 'legend':False, 'kwargs_ylabel':dict(fontsize=labelsize), 'kwargs_xlabel':dict(fontsize=labelsize), 'kwargs_title':dict(fontsize=titlesize, weight=titleweight)}]],\n",
    "           ]\n",
    "\n",
    "label_ext_list = []\n",
    "for system, label in zip(systems, labels): \n",
    "    label_ext_list.append(dict([(key, val) for key, val in zip(system, label)]))\n",
    "\n",
    "\n",
    "for samplenames, label_ext, filename, f_kwarg in zip(systems, label_ext_list, filenames, f_kwargs):\n",
    "    dic_obj = {}\n",
    "    # Get the sample data\n",
    "    for samplename in samplenames:\n",
    "        dic_obj[samplename] = samples.get_SS_PFM_Object(samplename)\n",
    "    # Integrate the labels\n",
    "    temp_f_kwargs = copy.deepcopy(f_kwarg)\n",
    "    temp_f_kwargs[0][0]['label_ext'] = label_ext # must be set for the relevant subplots\n",
    "    temp_f_kwargs[1][0]['label_ext'] = label_ext # for Nb\n",
    "\n",
    "    manag = ev.SS_PFM_manager(dic_obj)\n",
    "    fig, ax, lo = manag.plot_Forcecurve('', 'response_C_Vf_Rfs_Afs_flag_T', 'evol', functions_kwargs_ext=temp_f_kwargs, style='classic')\n",
    "    #plt.tight_layout(pad=1)\n",
    "    plt.subplots_adjust(left=0.07, bottom=0.04, right=0.95, top=0.97, wspace=0.21, hspace=0.2)\n",
    "    if save: ev.save_pyplot_figure(fig, filename, path=os.getcwd(), kwargs_savefig=dict(dpi=dpi))\n",
    "\n"
   ]
  },
  {
   "cell_type": "markdown",
   "id": "cdbbec95-92c2-41b3-a58c-4aaeb298cf76",
   "metadata": {},
   "source": [
    "### Depict temp evol for single samples"
   ]
  },
  {
   "cell_type": "code",
   "execution_count": null,
   "id": "5c60d4b2-0214-4cef-818e-d47cf6e88fa6",
   "metadata": {
    "tags": []
   },
   "outputs": [],
   "source": [
    "# Saving options\n",
    "save = False\n",
    "dpi = 175\n",
    "labelsize = 'large'\n",
    "\n",
    "#Choose the series by uncommenting \n",
    "systems = ['0_BT','1_BZT_10', '23_BZT_20', '24_BZT_30', '3_BZT_40', '4_BNT_2p5','5_BNT_5', '2_BNT_7', '7_BNT_10','8_BNT_15', '17_BNZT_2p5_10','18_BNZT_2p5_20', '16_BNZT_2p5_30']\n",
    "titles = ['0_BT','1_BZT_10', '23_BZT_20', '24_BZT_30', '3_BZT_40', '4_BNT_2p5','5_BNT_5', '2_BNT_7', '7_BNT_10','8_BNT_15', '17_BNZT_2p5_10','18_BNZT_2p5_20', '16_BNZT_2p5_30']\n",
    "filenames = ['0_BT','1_BZT_10', '23_BZT_20', '24_BZT_30', '3_BZT_40', '4_BNT_2p5','5_BNT_5', '2_BNT_7', '7_BNT_10','8_BNT_15', '17_BNZT_2p5_10','18_BNZT_2p5_20', '16_BNZT_2p5_30']\n",
    "f_kwargs = [[{'args_xlim':(20,180), 'args_ylim':(0,None), 'kwargs_legend':dict(loc='upper right', fontsize='medium'), 'legend':False, 'kwargs_ylabel':dict(fontsize=labelsize)}, \n",
    "              {'args_xlim':(20,180), 'args_ylim':(0,None),'kwargs_legend':dict(loc='upper right'), 'legend':False, 'kwargs_ylabel':dict(fontsize=labelsize)}], \n",
    "             [{'args_xlim':(20,180), 'args_ylim':(0,None), 'kwargs_legend':dict(loc='upper right'), 'legend':False, 'kwargs_ylabel':dict(fontsize=labelsize)},\n",
    "              {'args_xlim':(20,180), 'args_ylim':(0,None), 'kwargs_legend':dict(loc='upper right'), 'legend':False, 'kwargs_ylabel':dict(fontsize=labelsize)}],\n",
    "             [{'args_xlim':(20,180), 'args_ylim':(0,None), 'kwargs_legend':dict(loc='upper right'), 'legend':False, 'kwargs_ylabel':dict(fontsize=labelsize)}, \n",
    "              {'args_xlim':(20,180), 'args_ylim':(0,None), 'kwargs_legend':dict(loc='upper right'), 'legend':False, 'kwargs_ylabel':dict(fontsize=labelsize)}], \n",
    "             [{'args_xlim':(20,180), 'args_ylim':(0, None), 'kwargs_legend':dict(loc='upper right'), 'legend':False, 'kwargs_ylabel':dict(fontsize=labelsize), 'kwargs_xlabel':dict(fontsize=labelsize)},\n",
    "              {'args_xlim':(20,180), 'args_ylim':(0,None), 'kwargs_legend':dict(loc='upper right'), 'legend':False, 'kwargs_ylabel':dict(fontsize=labelsize), 'kwargs_xlabel':dict(fontsize=labelsize)}]]     \n",
    "\n",
    "for samplename, filename, title in zip(systems, filenames, titles):\n",
    "    dic_obj = {}\n",
    "    \n",
    "    # Get the sample data\n",
    "    dic_obj[samplename] = samples.get_SS_PFM_Object(samplename)\n",
    "\n",
    "    manag = ev.SS_PFM_manager(dic_obj)\n",
    "    fig, ax, lo = manag.plot_Forcecurve('', 'response_C_Vf_Rfs_Afs_flag_T', 'evol', functions_kwargs_ext=f_kwargs, style='classic')\n",
    "    plt.suptitle(title)\n",
    "    if save: ev.save_pyplot_figure(fig, filename, path=os.getcwd(), kwargs_savefig=dict(dpi=dpi))\n"
   ]
  },
  {
   "cell_type": "markdown",
   "id": "b3ce0fe1",
   "metadata": {
    "toc-hr-collapsed": true
   },
   "source": [
    "# 9) SS-PFM-Depicter for forcecurve overview figures\n",
    "The sample name is needed: If you don't know the sample name, look them up in the table. \n",
    "\n",
    "The sample name must be submitted as a string in a certain format, e.g: 2_BNT_7"
   ]
  },
  {
   "cell_type": "markdown",
   "id": "e8ddd7e9",
   "metadata": {},
   "source": [
    "### This code must alway be run"
   ]
  },
  {
   "cell_type": "code",
   "execution_count": null,
   "id": "403b2775",
   "metadata": {},
   "outputs": [],
   "source": [
    "'''Enter sample name below ==> This is the only part of code, \n",
    "that must be manipulated in this cell'''\n",
    "#=======================================\n",
    "samplename = '3_BZT_40' # <== Enter sample name here!\n",
    "#=======================================\n",
    "\n",
    "'''This code shall not be modified'''\n",
    "#Create a manager instance by submitting a sample object\n",
    "manag = ev.SS_PFM_manager({samplename:samples.get_SS_PFM_Object(samplename)})\n",
    "manag.set_active_obj(samplename)\n",
    "_=[print(filename) for filename in manag.get_filenames()] #List comprehension"
   ]
  },
  {
   "cell_type": "markdown",
   "id": "121722d8",
   "metadata": {},
   "source": [
    "### Option 1: Depict one certain forcecurve\n",
    "You simply need to supply the row index, column index and the forcemap name in the head of the code. The indeces are numbers btw. 0 and 5. The forcemap names can be obtained in the list generated by running the upper cell."
   ]
  },
  {
   "cell_type": "code",
   "execution_count": null,
   "id": "884eda02",
   "metadata": {},
   "outputs": [],
   "source": [
    "'''Enter the row, column index and filename below ==> This is the only part of code, \n",
    "that must be manipulated in this cell'''\n",
    "#=======================================\n",
    "filename = 'BZT_10_08' # <== Enter filename here!\n",
    "line = 0 # <== Enter row index here!\n",
    "point = 0 # <== Enter column index here!\n",
    "save_fig = True # <== Decide if the figure is saved in the desired folder\n",
    "#=======================================\n",
    "\n",
    "'''This code shall not be modified'''\n",
    "manag.plot_Forcecurve(filename,'overview','single', line=line, point=point, save_fig=save_fig)"
   ]
  },
  {
   "cell_type": "markdown",
   "id": "b5f16b1a",
   "metadata": {},
   "source": [
    "### Option 2: Depict all forcecurves\n",
    "You simply need to supply the forcemap name in the head of the code. The forcemap names can be obtained in the list generated by running the upper cell."
   ]
  },
  {
   "cell_type": "code",
   "execution_count": null,
   "id": "3e1e595f",
   "metadata": {},
   "outputs": [],
   "source": [
    "'''Enter filename below ==> This is the only part of code, \n",
    "that must be manipulated in this cell'''\n",
    "#=======================================\n",
    "filename = 'BZT_40_18' # <== Enter filename here!\n",
    "save_fig = False # <== Safes the figure \n",
    "#=======================================\n",
    "\n",
    "'''This code shall not be modified'''\n",
    "for row in range(6):\n",
    "    for column in range(6):\n",
    "        manag.plot_Forcecurve(filename, 'overview','single', line=row, point=column, save_fig=save_fig)"
   ]
  },
  {
   "cell_type": "markdown",
   "id": "e933eca5",
   "metadata": {},
   "source": [
    "# "
   ]
  },
  {
   "cell_type": "markdown",
   "id": "fb38064b",
   "metadata": {
    "toc-hr-collapsed": true
   },
   "source": [
    "# 10) SS-PFM-Depicter for forcecurve superimposed overview figures\n",
    "The sample name is needed: If you don't know the sample name, look them up in the table. \n",
    "\n",
    "The sample name must be submitted as a string in a certain format, e.g: 2_BNT_7"
   ]
  },
  {
   "cell_type": "markdown",
   "id": "4d810aab",
   "metadata": {},
   "source": [
    "### This code must alway be run"
   ]
  },
  {
   "cell_type": "code",
   "execution_count": null,
   "id": "ea54e999",
   "metadata": {},
   "outputs": [],
   "source": [
    "'''Enter sample name below ==> This is the only part of code, \n",
    "that must be manipulated in this cell'''\n",
    "#=======================================\n",
    "samplename = '17_BNZT_2p5_10' # <== Enter sample name here!\n",
    "#=======================================\n",
    "\n",
    "'''This code shall not be modified'''\n",
    "#Create a manager instance by submitting a sample object\n",
    "manag = ev.SS_PFM_manager({samplename:samples.get_SS_PFM_Object(samplename)})\n",
    "manag.set_active_obj(samplename)\n",
    "_=[print(filename) for filename in manag.get_filenames()] #List comprehension"
   ]
  },
  {
   "cell_type": "markdown",
   "id": "176edba9",
   "metadata": {},
   "source": [
    "### Option 1: Depict one certain forcemap\n",
    "You simply need to supply the forcemap name in the head of the code. The forcemap names can be obtained in the list generated by running the upper cell."
   ]
  },
  {
   "cell_type": "code",
   "execution_count": null,
   "id": "163ff417",
   "metadata": {},
   "outputs": [],
   "source": [
    "'''Enter the row, column index and filename below ==> This is the only part of code, \n",
    "that must be manipulated in this cell'''\n",
    "#=======================================\n",
    "filename = 'BNZT_10_03' # <== Enter filename here!\n",
    "save_fig = False # <== Safes the figure \n",
    "#=======================================\n",
    "\n",
    "'''This code shall not be modified'''\n",
    "manag.plot_Forcecurve(filename, 'overview', 'super', save_fig=save_fig)"
   ]
  },
  {
   "cell_type": "markdown",
   "id": "7e794f9a",
   "metadata": {},
   "source": [
    "### Option 2: Depict all forcemaps\n",
    "Depicts the temperature dependent forcemap of a sample."
   ]
  },
  {
   "cell_type": "code",
   "execution_count": null,
   "id": "9c9e4b44",
   "metadata": {
    "tags": []
   },
   "outputs": [],
   "source": [
    "'''Enter sample name below ==> This is the only part of code, \n",
    "that must be manipulated in this cell'''\n",
    "#=======================================\n",
    "samplename = '16_BNZT_2p5_30' # <== Enter sample name here!\n",
    "save_fig = False # <== Safes the figure \n",
    "#=======================================\n",
    "\n",
    "'''This code shall not be modified'''\n",
    "#Create a manager instance by submitting a sample object\n",
    "manag = ev.SS_PFM_manager({samplename:samples.get_SS_PFM_Object(samplename)})\n",
    "manag.set_active_obj(samplename)\n",
    "filenames = manag.get_filenames()\n",
    "for filename in filenames: \n",
    "    manag.plot_Forcecurve(filename, 'overview', 'super', save_fig=save_fig)"
   ]
  },
  {
   "cell_type": "markdown",
   "id": "819efbb0",
   "metadata": {
    "tags": []
   },
   "source": [
    "# "
   ]
  },
  {
   "cell_type": "markdown",
   "id": "afb1efb6",
   "metadata": {
    "toc-hr-collapsed": true
   },
   "source": [
    "# 11) SS-PFM-Depicter for forcemap histograms\n",
    "The sample name is needed: If you don't know the sample name, look them up in the table. \n",
    "\n",
    "The sample name must be submitted as a string in a certain format, e.g: 2_BNT_7"
   ]
  },
  {
   "cell_type": "markdown",
   "id": "dcea1fcc",
   "metadata": {},
   "source": [
    "### This code must alway be run"
   ]
  },
  {
   "cell_type": "code",
   "execution_count": null,
   "id": "68b63f01",
   "metadata": {},
   "outputs": [],
   "source": [
    "'''Enter sample name below ==> This is the only part of code, \n",
    "that must be manipulated in this cell'''\n",
    "#=======================================\n",
    "samplename = '2_BNT_7' # <== Enter sample name here!\n",
    "#=======================================\n",
    "\n",
    "'''This code shall not be modified'''\n",
    "#Create a manager instance by submitting a sample object\n",
    "manag = ev.SS_PFM_manager({samplename:samples.get_SS_PFM_Object(samplename)})\n",
    "manag.set_active_obj(samplename)\n",
    "_=[print(filename) for filename in manag.get_filenames()] #List comprehension"
   ]
  },
  {
   "cell_type": "markdown",
   "id": "14cad942",
   "metadata": {},
   "source": [
    "### Option 1: Depict one certain histogram\n",
    "You simply need to supply the forcemap name in the head of the code. The forcemap names can be obtained in the list generated by running the upper cell."
   ]
  },
  {
   "cell_type": "code",
   "execution_count": null,
   "id": "b366a928",
   "metadata": {
    "scrolled": true
   },
   "outputs": [],
   "source": [
    "'''Enter the row, column index and filename below ==> This is the only part of code, \n",
    "that must be manipulated in this cell'''\n",
    "#=======================================\n",
    "filename = 'BNT_7_05' # <== Enter filename here!\n",
    "save_fig = False # <== Safes the figure \n",
    "#=======================================\n",
    "\n",
    "'''This code shall not be modified'''\n",
    "manag.plot_Forcecurve(filename, 'hist', 'single_dist', save_fig=save_fig)"
   ]
  },
  {
   "cell_type": "markdown",
   "id": "b12c0b26",
   "metadata": {},
   "source": [
    "### Option 2: Depict all histograms\n",
    "Depicts the temperature dependent forcemap of a sample."
   ]
  },
  {
   "cell_type": "code",
   "execution_count": null,
   "id": "bb5d7bbc",
   "metadata": {
    "scrolled": true
   },
   "outputs": [],
   "source": [
    "'''Enter sample name below ==> This is the only part of code, \n",
    "that must be manipulated in this cell'''\n",
    "#=======================================\n",
    "samplename = '2_BNT_7' # <== Enter sample name here!\n",
    "save_fig = False # <== Safes the figure \n",
    "#=======================================\n",
    "\n",
    "'''This code shall not be modified'''\n",
    "#Create a manager instance by submitting a sample object\n",
    "manag = ev.SS_PFM_manager({samplename:samples.get_SS_PFM_Object(samplename)})\n",
    "manag.set_active_obj(samplename)\n",
    "filenames = manag.get_filenames()\n",
    "for filename in filenames: \n",
    "    manag.plot_Forcecurve(filename, 'hist', 'single_dist', save_fig=save_fig)"
   ]
  },
  {
   "cell_type": "markdown",
   "id": "3ebda1c0",
   "metadata": {},
   "source": [
    " # "
   ]
  },
  {
   "cell_type": "markdown",
   "id": "57f85669",
   "metadata": {
    "toc-hr-collapsed": true
   },
   "source": [
    "# 12) OPG Poster Figures "
   ]
  },
  {
   "cell_type": "markdown",
   "id": "ec4c8240",
   "metadata": {},
   "source": [
    "### SS-PFM Results\n",
    "Coercive Bias, Response and Work of switching "
   ]
  },
  {
   "cell_type": "code",
   "execution_count": null,
   "id": "d5cd3901",
   "metadata": {
    "scrolled": true
   },
   "outputs": [],
   "source": [
    "sampledic = {'10% Zr': samples.get_SS_PFM_Object('1_BZT_10'),\n",
    "             '2.5% Nb': samples.get_SS_PFM_Object('4_BNT_2p5'),\n",
    "             '2.5% Nb and 10% Zr': samples.get_SS_PFM_Object('17_BNZT_2p5_10')}\n",
    "\n",
    "manag = ev.SS_PFM_manager(sampledic)\n",
    "manag.set_active_obj('10% Zr')\n",
    "\n",
    "#Signals \n",
    "x_signals = [['Temp', 'Temp'], \n",
    "             ['Temp', 'Temp'], \n",
    "             ['Temp', 'Temp']]\n",
    "y_signals = [['AmpOn_Response_2_Vf', 'AmpOff_Response_2_Vf'], \n",
    "             ['AmpOn_Response_2_Rfs', 'AmpOff_Response_2_Rfs'], \n",
    "             ['AmpOn_Response_2_Afs', 'AmpOff_Response_2_Afs']]\n",
    "\n",
    "#kwargs\n",
    "ax_label = {'size':'xx-large', 'style':'italic'}\n",
    "titleparams = {'size':'xx-large', 'weight':'bold', 'y':1.05}\n",
    "ms = 8\n",
    "scale = 0.85\n",
    "subplots_kwargs_ext = {'figsize': (scale*17.5, scale*20), 'sharex': True}\n",
    "functions_kwargs_ext = [[{'legend':True, 'xlabel':'', 'ylabel': 'Coercive Bias [V]', 'kwargs_ylabel':ax_label, \n",
    "                          'title':'In-field Response', 'kwargs_title': titleparams, 'marker':'s', 'markersize':ms,\n",
    "                         'kwargs_plot':dict(lw=2)},\n",
    "                         {'legend':True, 'xlabel':'', 'ylabel':'', 'title':'', 'kwargs_plot':dict(lw=2), \n",
    "                          'title':'Remanent Response', 'kwargs_title': titleparams, 'marker':'o', 'markersize':ms}],\n",
    "                        [{'legend':False, 'xlabel':'', 'ylabel': 'Saturation Response [pm]', 'kwargs_ylabel':ax_label, \n",
    "                          'title':'', 'marker':'s', 'markersize':ms, 'kwargs_plot':dict(lw=2)},\n",
    "                         {'legend':False, 'xlabel':'', 'ylabel':'', 'title':'', 'marker':'o', 'markersize':ms, \n",
    "                         'kwargs_plot':dict(lw=2)}],\n",
    "                        [{'legend':False, 'xlabel':'Temperature [°C]', 'kwargs_xlabel':ax_label, 'marker':'s', 'markersize':ms, \n",
    "                          'ylabel': 'Work of Switching [a.u.]', 'kwargs_ylabel':ax_label, 'title':'', 'yscale_ext':1e8/3.5,\n",
    "                         'kwargs_plot':dict(lw=2)},\n",
    "                         {'legend':False, 'xlabel':'Temperature [°C]', 'kwargs_xlabel':ax_label, \n",
    "                          'ylabel':'', 'title':'', 'yscale_ext':1e8/3.5, 'marker':'o', 'markersize':ms,\n",
    "                         'kwargs_plot':dict(lw=2)}]]\n",
    "\n",
    "#Plot\n",
    "fig, ax, lineObjects = manag.plot_Forcecurve('', 'custom', 'evol', x_signals=x_signals, y_signals=y_signals, \n",
    "                                            subplots_kwargs_ext=subplots_kwargs_ext, functions_kwargs_ext=functions_kwargs_ext, \n",
    "                                             style='classic')\n",
    "#Share y axes\n",
    "ax[0,0].sharey(ax[0,1])\n",
    "ax[1,1].sharey(ax[1,0])\n",
    "ax[2,1].sharey(ax[2,0])\n",
    "\n",
    "#Set y Ticks invisible \n",
    "plt.setp(ax[0,1].get_yticklabels(), visible=False)\n",
    "plt.setp(ax[1,1].get_yticklabels(), visible=False)\n",
    "plt.setp(ax[2,1].get_yticklabels(), visible=False)\n",
    "\n",
    "#xlims and ticks\n",
    "xticks = [25, 50, 75, 100, 125, 150]\n",
    "xlabels = ['25', '50', '75', '100', '125', '150']\n",
    "plt.sca(ax[2,0])\n",
    "plt.xlim(25,150)\n",
    "plt.xticks(xticks, labels=xlabels)\n",
    "plt.sca(ax[2,1])\n",
    "plt.xlim(25,150)\n",
    "plt.xticks(xticks, labels=xlabels)\n",
    "\n",
    "#ylims and ticks\n",
    "plt.sca(ax[0,0])\n",
    "plt.ylim(0,40)\n",
    "yticks = [0, 250, 500, 750, 1000, 1250, 1500, 1750]\n",
    "ylabels = ['0', '250', '500', '750', '1000', '1250', '1500', '1750']\n",
    "plt.sca(ax[1,0])\n",
    "plt.ylim(0,1750)\n",
    "plt.yticks(yticks, labels=ylabels)\n",
    "plt.sca(ax[2,0])\n",
    "plt.ylim(0,1)\n",
    "\n",
    "plt.tight_layout()\n",
    "\n",
    "ev.save_pyplot_figure(fig, 'SS-PFM', kwargs_savefig=dict(dpi=500))"
   ]
  },
  {
   "cell_type": "markdown",
   "id": "16ec48ba",
   "metadata": {},
   "source": [
    "### SS-PFM Response curve with fit\n",
    "Data points with fit"
   ]
  },
  {
   "cell_type": "code",
   "execution_count": null,
   "id": "d6f81ee3",
   "metadata": {},
   "outputs": [],
   "source": [
    "#We will use the BNT_2p5_00 Line 0 point 0 curve - AmpOff Response 2\n",
    "sample = samples.get_SS_PFM_Object('4_BNT_2p5')\n",
    "\n",
    "#Get the data\n",
    "x = {}\n",
    "y = {}\n",
    "hyst = sample.get_Forcemap_value('BNT_2p5_00', 'Aux_stat')\n",
    "bias_plus = hyst.loc[:, 'AmpOn_Bias_plus_mean']\n",
    "bias_minus = hyst.loc[:, 'AmpOn_Bias_minus_mean']\n",
    "response_plus = hyst.loc[:, 'AmpOff_Response_2_plus_mean'] * 1e12\n",
    "response_minus = hyst.loc[:, 'AmpOff_Response_2_minus_mean'] *1e12\n",
    "a1, a2, a3, a4, a5, a6 = sample.get_Forcemap_value('BNT_2p5_00', 'AmpOff_Response_2_fitparam')\n",
    "bias = np.linspace(-60, 60, 1000)\n",
    "r_plus = data.SS_PFM.sigmoid_single(bias, a1, a2, a3, a5, a6)\n",
    "r_minus = data.SS_PFM.sigmoid_single(bias, a1, a2, a4, a5, a6)\n",
    "x['Forward branch fit'] = bias\n",
    "x['Reverse branch fit'] = bias\n",
    "y['Forward branch fit'] = r_plus\n",
    "y['Reverse branch fit'] = r_minus\n",
    "x['Measured loop'] = np.vstack((bias_plus, bias_minus))\n",
    "y['Measured loop'] = np.vstack((response_plus, response_minus))\n",
    "\n",
    "\n",
    "#Setting for the graph \n",
    "color = {'Measured loop': 'black', 'Forward branch fit': 'blue', 'Reverse branch fit': 'purple'}\n",
    "ms = {'Measured loop': 4, 'Forward branch fit': None, 'Reverse branch fit': None}\n",
    "marker = {'Measured loop': 'x', 'Forward branch fit': '', 'Reverse branch fit': ''}\n",
    "ls = {'Measured loop': '', 'Forward branch fit': '-', 'Reverse branch fit': '-'}\n",
    "kwargs_plot = dict(lw=2)\n",
    "kwargs_grid = dict(ls=':', color='grey')\n",
    "xlim = (-60,60)\n",
    "ylim = (-2, 2)\n",
    "xlabel = '$Bias [V\\; ]$'\n",
    "ylabel = '$Response [pm]$'\n",
    "Vf_plus = a3\n",
    "Vf_minus = a4 \n",
    "Rfs_plus = a1\n",
    "Rfs_minus = a1-a2\n",
    "legend_loc = (0,0.778)\n",
    "legend_size = 12#'medium'\n",
    "legend_ncol = 1\n",
    "\n",
    "\n",
    "scale=0.5\n",
    "plt.style.use('classic')\n",
    "fig, ax = plt.subplots(1,1,figsize=(5.5,4.5), dpi=150)\n",
    "ev.graph_2D(x,y, presort=False, color=color, markersize=ms, marker=marker, linestyle=ls, legend=True, args_xlim=xlim,\n",
    "           args_ylim=ylim, kwargs_plot=kwargs_plot, kwargs_grid=kwargs_grid, kwargs_legend=dict(loc=legend_loc, fontsize=legend_size, ncol=legend_ncol))\n",
    "\n",
    "#x and y label\n",
    "plt.xlabel(xlabel, size='x-large')\n",
    "plt.ylabel(ylabel, size='x-large')\n",
    "\n",
    "#Set the ticks\n",
    "plt.xticks((-60, -45, -30, -15, 0, 15, 30, 45, 60), \n",
    "           ('-60', '45', '-30', '-15', '0', '15', '30', '45', '60'))\n",
    "\n",
    "'''#Annotations\n",
    "r_plus_text = '\\n'.join(('$R^{+}(V) = a_1 + V * a_6$','$-a_2 / [1 + e^{(V-a_3)/a_5}] $'))\n",
    "plt.annotate(r_plus_text, xy=(0.68, 0.35) ,xycoords='axes fraction', color='blue', fontsize=13, rotation=0)\n",
    "r_minus_text = '\\n'.join(('$R^{-}(V) = a_1 + V * a_6$','$-a_2 / [1 + e^{(V-a_4)/a_5}] $'))\n",
    "plt.annotate(r_minus_text, xy=(0.35, 0.88) ,xycoords='axes fraction', color='purple', fontsize=13, rotation=0)'''\n",
    "\n",
    "#Vf +\n",
    "plt.annotate('$V_f^{+}$', xy=(Vf_plus+1,0), color='forestgreen', fontsize=20, weight='bold')\n",
    "plt.plot(Vf_plus, data.SS_PFM.sigmoid_single(np.array([Vf_plus]), a1, a2, a3, a5, a6), 'o', ms=7, zorder=3, color='forestgreen')\n",
    "#Vf-\n",
    "plt.annotate('$V_f^{-}$', xy=(Vf_minus-11,0.1), color='forestgreen', fontsize=20, weight='bold')\n",
    "plt.plot(Vf_minus, data.SS_PFM.sigmoid_single(np.array([Vf_minus]), a1, a2, a4, a5, a6), 'o', ms=7, zorder=3, color='forestgreen')\n",
    "'''\n",
    "#Infobox\n",
    "text = '\\n'.join(('Coercive Bias:', '$V_f = (V_f^{+} - V_f^{+}) / 2 = (a_3-a_4)/2$'))\n",
    "plt.annotate(text, xy=(-34.4,310), color='black', fontsize=11, ha=\"center\", va=\"center\", \n",
    "            bbox=dict(boxstyle='round', color='forestgreen', alpha=0.55, pad=0.5))\n",
    "'''\n",
    "#Rfs+\n",
    "plt.annotate('$R_{fs}^{+}$', xy=(30, Rfs_plus-0.3), color='crimson', fontsize=20, weight='bold')\n",
    "plt.plot(27.2, Rfs_plus, 'o', ms=7, zorder=3, color='crimson')\n",
    "#Rfs-\n",
    "plt.annotate('$R_{fs}^{-}$', xy=(-37, Rfs_minus+0.3), color='crimson', fontsize=20, weight='bold')\n",
    "plt.plot(-26.0, Rfs_minus, 'o', ms=7, zorder=3, color='crimson')\n",
    "'''\n",
    "#Infobox\n",
    "text = '\\n'.join(('Max. switchable piezoresponse:', '$R_{fs} = R_{fs}^{+} - R_{fs}^{-} = a_2$'))\n",
    "plt.annotate(text, xy=(31.6,-340), color='black', fontsize=11, ha=\"center\", va=\"center\", \n",
    "            bbox=dict(boxstyle='round', color='crimson', alpha=0.55, pad=0.5))'''\n",
    "\n",
    "#Afs\n",
    "bs = np.linspace(-60, 60, 500)\n",
    "b = np.ravel([bs,bs], 'F')\n",
    "r_p = data.SS_PFM.sigmoid_single(bs, a1, a2, a3, a5, a6)\n",
    "r_m = data.SS_PFM.sigmoid_single(bs, a1, a2, a4, a5, a6)\n",
    "r = np.ravel([r_p,r_m], 'F')\n",
    "plt.plot(b,r, alpha=0.2, zorder=1, color='orange')\n",
    "plt.annotate('$A_{fs}$', xy=(2, 0.2), color='peru', fontsize=20, weight='bold')\n",
    "'''#Infobox\n",
    "text = '\\n'.join(('Effective work of switching:', \n",
    "                  '$A_{fs} = \\int_{-\\infty}^{\\infty} [R^{-}(V)-R^{+}(V)] \\,dV = a_2*(a_3-a_4)$'))\n",
    "plt.annotate(text, xy=(23.5,-500), color='black', fontsize=11, ha=\"center\", va=\"center\", \n",
    "            bbox=dict(boxstyle='round', color='orange', alpha=0.55, pad=0.5))\n",
    "'''\n",
    "#ev.save_pyplot_figure(fig, 'Hysteresis', kwargs_savefig=dict(dpi=500))\n",
    "\n",
    "'''\n",
    "#Preperations for flex subplot\n",
    "functions = np.array([[ev.graph_2D]])\n",
    "functions_args = np.array([[ev.args(x,y)]])\n",
    "functions_kwargs = np.array([[ev.kwargs({'color': color, 'markersize': ms, 'marker': marker, 'linestyle': ls})]])\n",
    "ev.flex_subplot(functions, functions_args, functions_kwargs)\n",
    "'''\n",
    "plt.tight_layout(pad=0.2)"
   ]
  },
  {
   "cell_type": "markdown",
   "id": "570f577d-d15f-4e05-9f28-9566780a578c",
   "metadata": {
    "tags": []
   },
   "source": [
    "### Save the actual figure"
   ]
  },
  {
   "cell_type": "code",
   "execution_count": null,
   "id": "c01ca414-cd72-4f48-bb85-037c7f9f8617",
   "metadata": {
    "tags": []
   },
   "outputs": [],
   "source": [
    "ev.save_pyplot_figure(fig, 'SS-PFM_responsehyst', ev.directory_querry(mode='dir'), kwargs_savefig=dict(dpi=dpi))"
   ]
  },
  {
   "cell_type": "markdown",
   "id": "eea31025",
   "metadata": {
    "toc-hr-collapsed": true
   },
   "source": [
    "# 13) PFM - Datacorrection and display"
   ]
  },
  {
   "cell_type": "markdown",
   "id": "bcce0605-4900-430e-8eb7-7544df1c7665",
   "metadata": {},
   "source": [
    "## Select a folder, read, correct and evaluate the data"
   ]
  },
  {
   "cell_type": "code",
   "execution_count": null,
   "id": "d943526f",
   "metadata": {},
   "outputs": [],
   "source": [
    "flag_prefac = False   # Set if prefactor should be taken from samplerecord\n",
    "alt_prefac = 1.0   # Alternative value for the prefactor \n",
    "#=========================================================================\n",
    "\n",
    "# Read in the directory\n",
    "directory = ev.directory_querry(mode='dir')\n",
    "path=os.path.normpath(directory)\n",
    "samplename = path.split(os.sep)[-3]\n",
    "filename = path.split(os.sep)[-1]\n",
    "\n",
    "# Read out relevant params from sample record\n",
    "  \n",
    "if flag_prefac:\n",
    "    prefac = InvOLS * liafactor / driveAmp\n",
    "    table = samples.get_SampleRecord_table(samplename, 'PFM')\n",
    "    InvOLS = float(table.loc[table['Filename']==filename, 'Amp InvOLS']) * 1e-9\n",
    "    driveAmp = float(table.loc[table['Filename']==filename, 'Drive Amp'])\n",
    "    liafactor = float(table.loc[table['Filename']==filename, 'LIA-factor'])\n",
    "else: \n",
    "    prefac = alt_prefac\n",
    "\n",
    "# Split the data and put it into arrays\n",
    "u0 = np.loadtxt(os.path.join(directory, 'U0.xyz'))\n",
    "u1 = np.loadtxt(os.path.join(directory, 'U1.xyz'))\n",
    "\n",
    "# Calc the corrected phaseangle and display it\n",
    "x = u0[:,0]\n",
    "y = u0[:,1]\n",
    "comp = (u0[:,2] + 1j * u1[:,2]) * alt_prefac\n",
    "theta, args = data.calc_Complex_Phaseangle(comp.real, comp.imag)\n",
    "comp *= prefac # should be done after theta calc. Least squares converges to fast otherwise. \n",
    "corr = comp * np.exp(-1j*theta)\n",
    "\n",
    "\n",
    "# Save the corrected data in xyz data\n",
    "np.savetxt(os.path.join(directory, 'UserIn0Retrace.xyz'), np.vstack([x,y,corr.real]).T)\n",
    "np.savetxt(os.path.join(directory, 'UserIn1Retrace.xyz'), np.vstack([x,y,corr.imag]).T)\n",
    "np.savetxt(os.path.join(directory, 'PhaseRetrace.xyz'), np.vstack([x,y,np.angle(corr) * 180 / np.pi]).T)\n",
    "np.savetxt(os.path.join(directory, 'AmplitudeRetrace.xyz'), np.vstack([x,y,np.abs(corr)]).T)"
   ]
  },
  {
   "cell_type": "markdown",
   "id": "18ce3d34-f5c9-4609-82a8-5645270071d2",
   "metadata": {},
   "source": [
    "## Show the results of the correction in the complex plane"
   ]
  },
  {
   "cell_type": "code",
   "execution_count": null,
   "id": "bb546643",
   "metadata": {},
   "outputs": [],
   "source": [
    "%matplotlib widget\n",
    "figsize = (5,5)\n",
    "dpi = 150\n",
    "lim = 0.5e-9\n",
    "labelsize = 'large'\n",
    "#====================================================================================\n",
    "\n",
    "fig, ax = plt.subplots(figsize=figsize, dpi=dpi)\n",
    "ev.graph_2D(dict(Rawdata=(comp*np.exp(1j*theta)).real/prefac, Corrected=corr.real/prefac), \n",
    "            dict(Rawdata=(comp*np.exp(1j*theta)).imag/prefac, Corrected=corr.imag/prefac),\n",
    "            marker = dict(Rawdata='.', Corrected='.'),\n",
    "            markersize = dict(Rawdata=1, Corrected=1),\n",
    "            color = dict(Rawdata='blue', Corrected='green'),\n",
    "            linestyle = dict(Rawdata='', Corrected=''),\n",
    "            legend=False, \n",
    "            xlabel='$Real \\; part [V\\;]$',\n",
    "            ylabel='$Imaginary \\; part [V\\;]$',\n",
    "            args_xlim=(-lim, lim),\n",
    "            args_ylim=(-lim, lim), \n",
    "            kwargs_xlabel=dict(size=labelsize), \n",
    "            kwargs_ylabel=dict(size=labelsize))\n",
    "\n",
    "#ax.set_xticks([-5+i for i in range(11)])\n",
    "#ax.set_yticks([-5+i for i in range(11)])\n",
    "print(theta)\n",
    "plt.tight_layout(pad=0.2)"
   ]
  },
  {
   "cell_type": "markdown",
   "id": "42d75381-b34c-4b5f-8d3a-cd8bf23ed778",
   "metadata": {
    "tags": []
   },
   "source": [
    "### Save the actual figure"
   ]
  },
  {
   "cell_type": "code",
   "execution_count": null,
   "id": "3eca009f-0584-4cf2-8b5d-85b01f843a07",
   "metadata": {
    "tags": []
   },
   "outputs": [],
   "source": [
    "ev.save_pyplot_figure(fig, 'PFM-signal_real_imag', ev.directory_querry(mode='dir'), kwargs_savefig=dict(dpi=dpi))"
   ]
  },
  {
   "cell_type": "markdown",
   "id": "4adc00ef-7995-4740-a0da-35c1760d2bfe",
   "metadata": {
    "tags": []
   },
   "source": [
    "## Show crosssections"
   ]
  },
  {
   "cell_type": "markdown",
   "id": "e9b81349-5ecf-4e69-b453-9ea98d096ee7",
   "metadata": {},
   "source": [
    "### Read in files "
   ]
  },
  {
   "cell_type": "code",
   "execution_count": null,
   "id": "6db18306-e743-4bba-932c-4a74a42714fa",
   "metadata": {},
   "outputs": [],
   "source": [
    "files = ev.directory_querry(mode='files')\n",
    "paths = [os.path.normpath(file) for file in files]\n",
    "labels = [path.split(os.sep)[-1].replace('CS_', 'Profile ').replace('.csv', '') for path in paths]\n",
    "dirs = [os.path.split(file)[0] for file in files]\n",
    "cs = [np.loadtxt(file, delimiter=';', usecols=(0,1)) for file in files]\n",
    "x_dict = {}\n",
    "y_dict = {}\n",
    "for i, label in enumerate(labels): \n",
    "    x_dict[label] = cs[i][:,0]\n",
    "    y_dict[label] = cs[i][:,1]"
   ]
  },
  {
   "cell_type": "code",
   "execution_count": null,
   "id": "5e0a93ea-3699-4386-b4bc-377999ecab35",
   "metadata": {
    "tags": []
   },
   "outputs": [],
   "source": [
    "### Show all cross sections in one graph\n",
    "\n",
    "%matplotlib widget\n",
    "figname = 'CS_Response'\n",
    "figsize = (5*1.16,5)\n",
    "title = ''\n",
    "xlabel = '$Position \\\\, [\\\\mu m]$'\n",
    "ylabel = '$Response \\\\, [pm]$'\n",
    "labelsize = 'large'\n",
    "xscale_ext = 1e6\n",
    "yscale_ext = 1e12\n",
    "xlim = (0, 5)\n",
    "ylim = (None, None)\n",
    "legend = True\n",
    "legend_loc = 'upper left'\n",
    "legend_size = 'medium'\n",
    "legend_ncol = 1\n",
    "dpi = 125\n",
    "colors = ['teal', 'indigo', 'indigo', 'indigo']\n",
    "linestyles = ['-', '-', '-', '--']\n",
    "label_ext = {key:label for key, label in zip(x_dict, ['1st scan', '2nd scan'])}\n",
    "#====================================================================================\n",
    "\n",
    "# We generate the plot now\n",
    "colors_dict = {key:color for key, color in zip(x_dict, colors)}\n",
    "ls_dict = {key:ls for key, ls in zip(x_dict, linestyles)}\n",
    "fig, ax = plt.subplots(figsize=figsize, dpi=dpi)\n",
    "x = ev.graph_2D(x_dict, y_dict, xscale_ext=xscale_ext, yscale_ext=yscale_ext, color=colors_dict, label_ext=label_ext, linestyle=ls_dict, legend=legend, kwargs_legend=dict(loc=legend_loc, fontsize=legend_size, ncol=legend_ncol), \n",
    "            xlabel=xlabel, ylabel=ylabel, kwargs_xlabel=dict(size=labelsize), kwargs_ylabel=dict(size=labelsize), title=title, kwargs_title = dict(fontsize='x-large'),\n",
    "            args_xlim=xlim, args_ylim=ylim)\n",
    "ax.minorticks_on()\n",
    "ax.set_xlabel(xlabel, size='large')\n",
    "ax.set_ylabel(ylabel, size='large')\n",
    "#ax.set_xticks([3*i for i in range(6)])\n",
    "#ax.set_yticks([60*i-180 for i in range(7)])\n",
    "plt.tight_layout(pad=0.2)"
   ]
  },
  {
   "cell_type": "markdown",
   "id": "6bf90b10-a585-48e0-b269-b1be6599ce61",
   "metadata": {},
   "source": [
    "### Save the actual figure"
   ]
  },
  {
   "cell_type": "code",
   "execution_count": null,
   "id": "7c4dabac-dc1d-479e-85d1-fa08d4eb60e0",
   "metadata": {
    "tags": []
   },
   "outputs": [],
   "source": [
    "ev.save_pyplot_figure(fig, figname, ev.directory_querry(mode='dir'), kwargs_savefig=dict(dpi=dpi))"
   ]
  },
  {
   "cell_type": "markdown",
   "id": "d45657ac-2b58-4b86-a623-0c947dc52feb",
   "metadata": {},
   "source": [
    "### Show the profile in a stacked graph"
   ]
  },
  {
   "cell_type": "code",
   "execution_count": null,
   "id": "365dcea0-f5c8-4878-91f9-3e119e79f137",
   "metadata": {},
   "outputs": [],
   "source": [
    "%matplotlib widget\n",
    "figname = 'CS_Phase_stacked'\n",
    "n_blocks = 2\n",
    "figsize = (5, 5)\n",
    "xlabel = ['', '$Position \\\\, [nm]$']\n",
    "ylabel = ['$Phase \\\\, [deg]$', '$Phase \\\\, [deg]$']\n",
    "labelsize = 'large'\n",
    "xscale_ext = [1e9 for _ in range(len(labels))]\n",
    "yscale_ext = [1e0 for _ in range(len(labels))]\n",
    "xlim = [(None, None) for _ in range(len(labels))]\n",
    "ylim = [(None, None) for _ in range(len(labels))]\n",
    "dpi = 125\n",
    "#====================================================================================\n",
    "\n",
    "# Generating the subplot\n",
    "color_cycle = plt.rcParams['axes.prop_cycle']\n",
    "default_colors = color_cycle.by_key()['color'] # Colorcycle\n",
    "n_plots = len(labels)\n",
    "fig = plt.figure(figsize=figsize, dpi=dpi)\n",
    "gs = gridspec.GridSpec(n_plots*n_blocks, n_plots*n_blocks, figure=fig)\n",
    "axs = []\n",
    "for i, label in enumerate(labels):\n",
    "    axs.append(fig.add_subplot(gs[i*n_blocks:(i+1)*n_blocks, :n_plots*n_blocks]))\n",
    "    plt.sca(axs[i])\n",
    "    ev.graph_2D(x_dict[label], y_dict[label], color='indigo', xscale_ext=xscale_ext[i], yscale_ext=yscale_ext[i],\n",
    "                title=label, xlabel=xlabel[i], ylabel=ylabel[i], args_xlim=xlim[i], args_ylim=ylim[i], \n",
    "                kwargs_xlabel=dict(size=labelsize), kwargs_ylabel=dict(size=labelsize))\n",
    "    if i<n_plots-1: axs[i].xaxis.set_ticklabels([])\n",
    "gs.update(hspace=0.6, wspace=0)\n",
    "\n",
    "\n",
    "# Axis settings\n",
    "axs[0].set_yticks([0-i*60 for i in range(5)])\n",
    "axs[1].set_yticks([0-i*60 for i in range(5)])\n",
    "#axs[2].set_yticks([10+i*10 for i in range(4)])\n",
    "#axs[2].set_ylim((10,40))\n",
    "\n",
    "plt.subplots_adjust(left=0.17, right=0.95, top=0.95, bottom=0.11)"
   ]
  },
  {
   "cell_type": "markdown",
   "id": "c72af308-331c-49b7-9250-9c34aeda6426",
   "metadata": {
    "tags": []
   },
   "source": [
    "### Save the actual figure"
   ]
  },
  {
   "cell_type": "code",
   "execution_count": null,
   "id": "e22d2a2c-382e-490e-bf6f-8383de4ae965",
   "metadata": {
    "tags": []
   },
   "outputs": [],
   "source": [
    "ev.save_pyplot_figure(fig, figname, ev.directory_querry(mode='dir'), kwargs_savefig=dict(dpi=dpi))"
   ]
  },
  {
   "cell_type": "markdown",
   "id": "c1257b36-5510-4edf-bd34-e2885f420131",
   "metadata": {},
   "source": [
    "## Phase distribution"
   ]
  },
  {
   "cell_type": "markdown",
   "id": "7e98807f-ac82-465e-a1ae-4b825d227fd8",
   "metadata": {},
   "source": [
    "### Read in files"
   ]
  },
  {
   "cell_type": "code",
   "execution_count": null,
   "id": "f461784b-4d29-4b45-afd7-4d2d307fe32d",
   "metadata": {},
   "outputs": [],
   "source": [
    "files = []\n",
    "while True:\n",
    "    file = ev.directory_querry()\n",
    "    if not file: break\n",
    "    files.append(file)\n",
    "\n",
    "paths = [os.path.normpath(file) for file in files]\n",
    "labels = [path.split(os.sep)[-2] for path in paths]\n",
    "dirs = [os.path.split(file)[0] for file in files]\n",
    "cs = [np.loadtxt(file, delimiter=';', usecols=(0,1)) for file in files]\n",
    "phi_dict = {}\n",
    "rho_dict = {}\n",
    "for i, label in enumerate(labels): \n",
    "    phi_dict[label] = np.hstack((cs[i][:,0]-360, cs[i][:,0], cs[i][:,0]+360))\n",
    "    rho_dict[label] = np.hstack((cs[i][:,1], cs[i][:,1], cs[i][:,1]))"
   ]
  },
  {
   "cell_type": "code",
   "execution_count": null,
   "id": "335b2db2-46e5-4d61-a97a-c6b32f4c6a79",
   "metadata": {},
   "outputs": [],
   "source": [
    "rho_dict.keys()"
   ]
  },
  {
   "cell_type": "markdown",
   "id": "67746db5-d9df-4dc9-92f9-e5f3ca55dcc0",
   "metadata": {},
   "source": [
    "### Phase Dist plot"
   ]
  },
  {
   "cell_type": "code",
   "execution_count": null,
   "id": "248cc355-5496-4e32-9b4c-bf6538b8d0bf",
   "metadata": {},
   "outputs": [],
   "source": [
    "%matplotlib widget\n",
    "figname = 'PPLNB_PhaseDist'\n",
    "figsize = (5.5,4.5)\n",
    "title = ''\n",
    "xlabel = '$Phase \\\\, [deg]$'\n",
    "ylabel = '$\\\\rho \\\\, [deg^{-1}]$'\n",
    "labelsize = 'large'\n",
    "xscale_ext = 1\n",
    "yscale_ext = 1\n",
    "xlim = (-60, 300)\n",
    "ylim = (0, None)\n",
    "legend = False\n",
    "legend_loc = (0.43, 0.50)\n",
    "dpi = 125\n",
    "yscale = 'linear'\n",
    "kwargs_yscale = {}#dict(linthresh=0.005)\n",
    "label_ext = dict([(key, label) for key, label in zip(phi_dict.keys(),  ['0% Nb, 0% Zr', '2.5% Nb, 10% Zr', '2.5% Nb, 20% Zr', '2.5% Nb, 30% Zr', '2.5% Nb, 40% Zr'])])\n",
    "#====================================================================================\n",
    "\n",
    "#\n",
    "\n",
    "# Generate the plot\n",
    "fig, ax = plt.subplots(figsize=figsize, dpi=dpi)\n",
    "x = ev.graph_2D(phi_dict, rho_dict, xscale_ext=xscale_ext, yscale_ext=yscale_ext, legend=legend, kwargs_legend=dict(loc=legend_loc), \n",
    "            xlabel=xlabel, ylabel=ylabel, kwargs_xlabel=dict(size=labelsize), kwargs_ylabel=dict(size=labelsize), \n",
    "            args_xlim=xlim, args_ylim=ylim, yscale=yscale, kwargs_yscale=kwargs_yscale, label_ext=label_ext, color='red')\n",
    "ax.minorticks_on()\n",
    "ax.set_xticks([60*i-60 for i in range(7)])\n",
    "plt.tight_layout(pad=0.2)"
   ]
  },
  {
   "cell_type": "markdown",
   "id": "944451ed-b6e1-4615-a3a0-0d3fcd2fc4eb",
   "metadata": {
    "tags": []
   },
   "source": [
    "### Save the actual figure"
   ]
  },
  {
   "cell_type": "code",
   "execution_count": null,
   "id": "e3b8f22b-c235-4315-9135-d21cffb130cd",
   "metadata": {},
   "outputs": [],
   "source": [
    "ev.save_pyplot_figure(fig, figname, ev.directory_querry(mode='dir'), kwargs_savefig=dict(dpi=dpi))"
   ]
  },
  {
   "cell_type": "markdown",
   "id": "236fa83e-6425-440c-b507-51cb49e9c163",
   "metadata": {
    "tags": []
   },
   "source": [
    "## Response distribution "
   ]
  },
  {
   "cell_type": "markdown",
   "id": "0cccda2b-2eeb-4690-a6c7-53b9d3e7223c",
   "metadata": {},
   "source": [
    "### Read in files"
   ]
  },
  {
   "cell_type": "code",
   "execution_count": null,
   "id": "d15a318a-3704-4722-b8d0-88e50c2eae34",
   "metadata": {},
   "outputs": [],
   "source": [
    "files = []\n",
    "while True:\n",
    "    file = ev.directory_querry()\n",
    "    if not file: break\n",
    "    files.append(file)\n",
    "\n",
    "paths = [os.path.normpath(file) for file in files]\n",
    "labels = [path.split(os.sep)[-2] for path in paths]\n",
    "dirs = [os.path.split(file)[0] for file in files]\n",
    "cs = [np.loadtxt(file, delimiter=';', usecols=(0,1)) for file in files]\n",
    "response_dict = {}\n",
    "rho_dict = {}\n",
    "for i, label in enumerate(labels): \n",
    "    response_dict[label] = cs[i][:,0]\n",
    "    rho_dict[label] = cs[i][:,1]"
   ]
  },
  {
   "cell_type": "markdown",
   "id": "958bb2c5-1069-4497-90af-55e9c8b45d32",
   "metadata": {},
   "source": [
    "### Response Dist plot"
   ]
  },
  {
   "cell_type": "code",
   "execution_count": null,
   "id": "2eecab3b-a159-4dbd-b2a5-a39e606e5cd1",
   "metadata": {},
   "outputs": [],
   "source": [
    "%matplotlib widget\n",
    "figname = 'PPLNB_ResponseDist'\n",
    "figsize = (5,4)\n",
    "title = ''\n",
    "xlabel = '$Response \\\\, [pm]$'\n",
    "ylabel = '$\\\\rho \\\\, [pm^{-1}]$'\n",
    "labelsize = 'large'\n",
    "xscale_ext = 1e12\n",
    "yscale_ext = 1e-12\n",
    "xlim = (None, None)\n",
    "ylim = (0, None)\n",
    "legend = False\n",
    "legend_loc = 'upper left'\n",
    "legend_size = 'medium'\n",
    "dpi = 125\n",
    "yscale = 'linear'\n",
    "kwargs_yscale = {} #dict(linthresh=9e-2)\n",
    "label_ext = dict([(key, label) for key, label in zip(response_dict.keys(), ['Initial resp.', 'After poling:\\n 1st scan', 'After poling:\\n 2nd scan'])])\n",
    "# ====================================================================================\n",
    "\n",
    "#\n",
    "\n",
    "# Generate the plot\n",
    "fig, ax = plt.subplots(figsize=figsize, dpi=dpi)\n",
    "x = ev.graph_2D(response_dict, rho_dict, xscale_ext=xscale_ext, yscale_ext=yscale_ext, legend=legend, kwargs_legend=dict(loc=legend_loc, fontsize=legend_size), \n",
    "            xlabel=xlabel, ylabel=ylabel, kwargs_xlabel=dict(size=labelsize), kwargs_ylabel=dict(size=labelsize), \n",
    "            args_xlim=xlim, args_ylim=ylim, yscale=yscale, kwargs_yscale=kwargs_yscale, label_ext=label_ext)\n",
    "ax.minorticks_on()\n",
    "ax.set_xlabel(xlabel, size='x-large')\n",
    "ax.set_ylabel(ylabel, size='x-large')\n",
    "plt.tight_layout(pad=0.2)"
   ]
  },
  {
   "cell_type": "markdown",
   "id": "4630eb91-f316-44c3-a75d-b143d319c774",
   "metadata": {
    "tags": []
   },
   "source": [
    "### Save the actual figure"
   ]
  },
  {
   "cell_type": "code",
   "execution_count": null,
   "id": "bd682c85-4f26-48f2-93e2-b352548d1553",
   "metadata": {},
   "outputs": [],
   "source": [
    "ev.save_pyplot_figure(fig, figname, ev.directory_querry(mode='dir'), kwargs_savefig=dict(dpi=dpi))"
   ]
  },
  {
   "cell_type": "markdown",
   "id": "bba50ed9-8f32-45d0-b7ff-eb9e8a274aef",
   "metadata": {
    "tags": []
   },
   "source": [
    "## Amplitude distribution "
   ]
  },
  {
   "cell_type": "markdown",
   "id": "747a27e2-0116-4a83-a006-93201b368acc",
   "metadata": {},
   "source": [
    "### Read in files"
   ]
  },
  {
   "cell_type": "code",
   "execution_count": null,
   "id": "2ea3eac4-ca64-435b-a607-ca89122691c6",
   "metadata": {},
   "outputs": [],
   "source": [
    "files = []\n",
    "while True:\n",
    "    file = ev.directory_querry()\n",
    "    if not file: break\n",
    "    files.append(file)\n",
    "\n",
    "paths = [os.path.normpath(file) for file in files]\n",
    "labels = [path.split(os.sep)[-2] for path in paths]\n",
    "dirs = [os.path.split(file)[0] for file in files]\n",
    "cs = [np.loadtxt(file, delimiter=';', usecols=(0,1)) for file in files]\n",
    "amplitude_dict = {}\n",
    "rho_dict = {}\n",
    "for i, label in enumerate(labels): \n",
    "    amplitude_dict[label] = cs[i][:,0]\n",
    "    rho_dict[label] = cs[i][:,1]"
   ]
  },
  {
   "cell_type": "markdown",
   "id": "b9ceb9d4-16c5-4569-a9e3-3500f8b46070",
   "metadata": {},
   "source": [
    "### Amplitude Dist plot"
   ]
  },
  {
   "cell_type": "code",
   "execution_count": null,
   "id": "6657276d-3c90-47e5-a5c2-bdd0ccf2d363",
   "metadata": {},
   "outputs": [],
   "source": [
    "%matplotlib widget\n",
    "figname = 'PPLNB_AmplitudeDist'\n",
    "figsize = (5.5,4.5)\n",
    "title = ''\n",
    "xlabel = '$Amplitude \\\\, [pm]$'\n",
    "ylabel = '$\\\\rho \\\\, [pm^{-1}]$'\n",
    "labelsize = 'large'\n",
    "xscale_ext = 1e12\n",
    "yscale_ext = 1e-12\n",
    "xlim = (0,None)\n",
    "ylim = (0, None)\n",
    "legend = False\n",
    "legend_loc = 'upper right'\n",
    "dpi = 125\n",
    "yscale = 'linear'\n",
    "kwargs_yscale = {} #dict(linthresh=9e-2)\n",
    "label_ext = dict([(key, label) for key, label in zip(amplitude_dict.keys(), ['0% Nb, 0% Zr', '2.5% Nb, 10% Zr', '2.5% Nb, 20% Zr', '2.5% Nb, 30% Zr', '2.5% Nb, 40% Zr'])])\n",
    "# ====================================================================================\n",
    "\n",
    "#\n",
    "\n",
    "# Generate the plot\n",
    "fig, ax = plt.subplots(figsize=figsize, dpi=dpi)\n",
    "x = ev.graph_2D(amplitude_dict, rho_dict, xscale_ext=xscale_ext, yscale_ext=yscale_ext, legend=legend, kwargs_legend=dict(loc=legend_loc), \n",
    "            xlabel=xlabel, ylabel=ylabel, kwargs_xlabel=dict(size=labelsize), kwargs_ylabel=dict(size=labelsize), \n",
    "            args_xlim=xlim, args_ylim=ylim, yscale=yscale, kwargs_yscale=kwargs_yscale, label_ext=label_ext)\n",
    "ax.minorticks_on()\n",
    "plt.tight_layout(pad=0.2)"
   ]
  },
  {
   "cell_type": "markdown",
   "id": "14795bcd-b104-4e56-994f-5b3b4b80f64d",
   "metadata": {
    "tags": []
   },
   "source": [
    "### Save the actual figure"
   ]
  },
  {
   "cell_type": "code",
   "execution_count": null,
   "id": "2404394c-b9c2-4ecd-b4d6-ec7b3748752e",
   "metadata": {
    "tags": []
   },
   "outputs": [],
   "source": [
    "ev.save_pyplot_figure(fig, figname, ev.directory_querry(mode='dir'), kwargs_savefig=dict(dpi=dpi))"
   ]
  },
  {
   "cell_type": "markdown",
   "id": "eeffa619-f5db-4f5a-a644-beebc8e80b38",
   "metadata": {},
   "source": [
    "## Combined datasets (2 y-axes)"
   ]
  },
  {
   "cell_type": "markdown",
   "id": "905e6003-bad3-41a1-8158-0af408e6e5f1",
   "metadata": {},
   "source": [
    "### Read in files "
   ]
  },
  {
   "cell_type": "code",
   "execution_count": null,
   "id": "27d93cb2-6bc0-4416-aff4-eda9969db137",
   "metadata": {},
   "outputs": [],
   "source": [
    "left_file = ev.directory_querry()\n",
    "right_file = ev.directory_querry()\n",
    "left_path = os.path.normpath(left_file)\n",
    "right_path = os.path.normpath(right_file)\n",
    "left_label = left_path.split(os.sep)[-1]\n",
    "right_label = right_path.split(os.sep)[-1]\n",
    "left_dir = os.path.split(left_file)[0]\n",
    "right_dir = os.path.split(right_file)[0]\n",
    "left_cs = np.loadtxt(left_file, delimiter=';', usecols=(0,1))\n",
    "right_cs = np.loadtxt(right_file, delimiter=';', usecols=(0,1))"
   ]
  },
  {
   "cell_type": "markdown",
   "id": "8ec88c7b-d5be-4594-abf5-4dc8e0e27bc7",
   "metadata": {},
   "source": [
    "### Show CS in twin graph"
   ]
  },
  {
   "cell_type": "code",
   "execution_count": null,
   "id": "2247235a-2708-4ea4-a5ed-e22d8d32d7e0",
   "metadata": {
    "tags": []
   },
   "outputs": [],
   "source": [
    "%matplotlib widget\n",
    "figname = 'CS_ART_PRT_twinx'\n",
    "figsize = (5.5, 4.5)\n",
    "title = ''\n",
    "xlabel = '$Position \\\\, [\\\\mu m]$'\n",
    "ylabel_1 = '$Amplitude \\\\, [pm]$'\n",
    "ylabel_2 = '$Phase \\\\, [deg]$'\n",
    "labelsize = 'large'\n",
    "xscale_ext = 1e6\n",
    "yscale_ext_1 = 1e12\n",
    "yscale_ext_2 = 1e0\n",
    "xlim = (None, None)\n",
    "ylim_1 = (0, 35)\n",
    "ylim_2 = (-180, 0)\n",
    "legend = False\n",
    "legend_loc = 'lower left'\n",
    "dpi = 125\n",
    "left_color = 'teal'\n",
    "right_color = 'indigo'\n",
    "#====================================================================================\n",
    "\n",
    "# We generate the plot now\n",
    "fig, ax1 = plt.subplots(figsize=figsize, dpi=dpi) \n",
    "x = ev.graph_2D(left_cs[:,0], left_cs[:,1], xscale_ext=xscale_ext, yscale_ext=yscale_ext_1, color=left_color, legend=legend, kwargs_legend=dict(loc=legend_loc), \n",
    "            xlabel=xlabel, ylabel=ylabel_1, kwargs_xlabel=dict(size=labelsize), kwargs_ylabel=dict(size=labelsize), \n",
    "            args_xlim=xlim, args_ylim=ylim_1, grid_on=False)\n",
    "ax1.set_ylabel(ylabel_1, color=left_color)\n",
    "ax1.tick_params(axis='y', labelcolor=left_color)\n",
    "ax1.minorticks_on()\n",
    "ax1.set_xlabel(xlabel, size='x-large')\n",
    "ax1.set_ylabel(ylabel_1, size='x-large')\n",
    "#ax1.set_yticks([i*10-50 for i in range(11)])\n",
    "ax2 = ax1.twinx()\n",
    "ax2.plot(right_cs[:,0]*xscale_ext, right_cs[:,1]*yscale_ext_2, color=right_color)\n",
    "ax2.set_ylabel(ylabel_2, color=right_color)\n",
    "ax2.tick_params(axis='y', labelcolor=right_color)\n",
    "ax2.set_ylim(ylim_2)\n",
    "ax2.minorticks_on()\n",
    "ax2.set_ylabel(ylabel_2, size='x-large')\n",
    "#ax2.set_yticks([-i*30 for i in range(7)])\n",
    "plt.tight_layout(pad=0.2)"
   ]
  },
  {
   "cell_type": "markdown",
   "id": "d1286dde-20d5-4533-ab23-1fd4aa21a4e8",
   "metadata": {
    "tags": []
   },
   "source": [
    "### Save the actual figure"
   ]
  },
  {
   "cell_type": "code",
   "execution_count": null,
   "id": "a456784d-b2db-448c-8c5a-75ffc22a1e2c",
   "metadata": {
    "tags": []
   },
   "outputs": [],
   "source": [
    "ev.save_pyplot_figure(fig, figname, ev.directory_querry(mode='dir'), kwargs_savefig=dict(dpi=dpi))"
   ]
  },
  {
   "cell_type": "markdown",
   "id": "2a377e16-dba8-499d-845f-32e7a8c7eb55",
   "metadata": {},
   "source": [
    "## Combined datasets (2 x-axes)"
   ]
  },
  {
   "cell_type": "markdown",
   "id": "63d65a0a-2ac3-45f4-bb25-89b487562829",
   "metadata": {},
   "source": [
    "### Read in files "
   ]
  },
  {
   "cell_type": "code",
   "execution_count": null,
   "id": "a2b969dd-35c0-4ba2-8b11-c5b89dd28f2b",
   "metadata": {},
   "outputs": [],
   "source": [
    "lower_file = ev.directory_querry()\n",
    "upper_file = ev.directory_querry()\n",
    "lower_path = os.path.normpath(lower_file)\n",
    "upper_path = os.path.normpath(upper_file)\n",
    "lower_label = lower_path.split(os.sep)[-1]\n",
    "upper_label = upper_path.split(os.sep)[-1]\n",
    "lower_dir = os.path.split(lower_file)[0]\n",
    "upper_dir = os.path.split(upper_file)[0]\n",
    "lower_cs_raw = np.loadtxt(lower_file, delimiter=';', usecols=(0,1))\n",
    "upper_cs_raw = np.loadtxt(upper_file, delimiter=';', usecols=(0,1))"
   ]
  },
  {
   "cell_type": "markdown",
   "id": "cbaee2b7-d6a0-4491-bdd5-1b8ca51918ec",
   "metadata": {},
   "source": [
    "### Show CS in twin graph"
   ]
  },
  {
   "cell_type": "code",
   "execution_count": null,
   "id": "9cefa205-ee54-4ae5-8817-1fc58649617a",
   "metadata": {
    "tags": []
   },
   "outputs": [],
   "source": [
    "%matplotlib widget\n",
    "figname = 'PD_AD_twiny'\n",
    "figsize = (5,5)\n",
    "title = ''\n",
    "ylabel_1 = '$\\\\rho \\\\, [pm^{-1}], [deg^{-1}]$'\n",
    "xlabel_2 = '$Amplitude\\\\, [pm]$'\n",
    "xlabel_1 = '$Phase \\\\, [deg]$'\n",
    "labelsize = 'large'\n",
    "yscale_ext_2 = 1e-12\n",
    "yscale_ext_1 = 1\n",
    "xscale_ext_2 = 1e12\n",
    "xscale_ext_1 = 1\n",
    "ylim = (0, 0.20)\n",
    "xlim_1 = (-120, 240)\n",
    "xlim_2 = (0, 12)\n",
    "legend = False\n",
    "legend_loc = 'lower left'\n",
    "dpi = 125\n",
    "phase_flag = 'lower'\n",
    "#====================================================================================\n",
    "\n",
    "# stack the phase if necessary\n",
    "if phase_flag =='upper':\n",
    "    ul = copy.deepcopy(upper_cs_raw)\n",
    "    ul[:, 0] -= 360\n",
    "    uh = copy.deepcopy(upper_cs_raw)\n",
    "    uh[:, 0] += 360\n",
    "    upper_cs = np.vstack([ul, upper_cs_raw, uh])\n",
    "    lower_cs = lower_cs_raw\n",
    "elif phase_flag =='lower':\n",
    "    ll = copy.deepcopy(lower_cs_raw)\n",
    "    ll[:, 0] -= 360\n",
    "    lh = copy.deepcopy(lower_cs_raw)\n",
    "    lh[:, 0] += 360\n",
    "    lower_cs = np.vstack([ll, lower_cs_raw, lh])\n",
    "    upper_cs = upper_cs_raw\n",
    "else: \n",
    "    lower_cs = lower_cs_raw\n",
    "    upper_cs = upper_cs_raw\n",
    "    \n",
    "\n",
    "# We generate the plot now\n",
    "fig, ax1 = plt.subplots(figsize=figsize, dpi=dpi) \n",
    "x = ev.graph_2D(lower_cs[:,0], lower_cs[:,1], xscale_ext=xscale_ext_1, yscale_ext=yscale_ext_1, legend=legend, kwargs_legend=dict(loc=legend_loc), \n",
    "            xlabel=xlabel_1, ylabel=ylabel, kwargs_xlabel=dict(size=labelsize), kwargs_ylabel=dict(size=labelsize), \n",
    "            args_xlim=xlim_1, args_ylim=ylim, grid_on=False)\n",
    "ax1.set_xlabel(xlabel_1, color='b')\n",
    "ax1.tick_params(axis='x', labelcolor='b')\n",
    "ax1.minorticks_on()\n",
    "ax1.set_xlabel(xlabel_1, size='large')\n",
    "ax1.set_ylabel(ylabel_1, size='large')\n",
    "ax1.set_xticks([60*i-120 for i in range(7)])\n",
    "ax2 = ax1.twiny()\n",
    "ax2.plot(upper_cs[:,0]*xscale_ext_2, upper_cs[:,1]*yscale_ext_2, color='g')\n",
    "ax2.set_xlabel(xlabel_2, color='g')\n",
    "ax2.tick_params(axis='x', labelcolor='g')\n",
    "ax2.set_xlim(xlim_2)\n",
    "ax2.minorticks_on()\n",
    "ax2.set_xlabel(xlabel_2, size='large')\n",
    "\n",
    "plt.tight_layout(pad=0.2)"
   ]
  },
  {
   "cell_type": "markdown",
   "id": "bef1338f-642a-4086-b9cb-45924df47bc9",
   "metadata": {
    "tags": []
   },
   "source": [
    "### Save the actual figure"
   ]
  },
  {
   "cell_type": "code",
   "execution_count": null,
   "id": "2d2a6279-18a2-4454-abc5-46f51e9e1e21",
   "metadata": {
    "tags": []
   },
   "outputs": [],
   "source": [
    "ev.save_pyplot_figure(fig, figname, ev.directory_querry(mode='dir'), kwargs_savefig=dict(dpi=dpi))"
   ]
  },
  {
   "cell_type": "markdown",
   "id": "a714f430-fb6a-4af2-85b4-b812e11be93f",
   "metadata": {
    "tags": []
   },
   "source": [
    "# 14) Depict filter results of response fit curves \n",
    "Depicts an overview of the accepted curves for each temperature for every sample "
   ]
  },
  {
   "cell_type": "code",
   "execution_count": null,
   "id": "a49d84e5-3df5-414d-97ca-f175041cbca2",
   "metadata": {},
   "outputs": [],
   "source": [
    "#Enter the samplenames here: \n",
    "samplenames = ['0_BT','1_BZT_10', '23_BZT_20', '24_BZT_30', '3_BZT_40',\n",
    "               '4_BNT_2p5','5_BNT_5', '2_BNT_7', '7_BNT_10','8_BNT_15', \n",
    "               '17_BNZT_2p5_10','18_BNZT_2p5_20', '16_BNZT_2p5_30']\n",
    "\n",
    "manags = {}\n",
    "\n",
    "for samplename in samplenames:\n",
    "    manags[samplename] = ev.SS_PFM_manager({samplename:samples.get_SS_PFM_Object(samplename)})\n",
    "    manags[samplename].plot_Forcecurve('', 'response_flag', 'evol')\n",
    "    # manags[samplename].plot_Forcecurve('', 'response_C_Vf_Rfs_Afs', 'evol')\n",
    "    # manags[samplename].plot_Forcecurve('', 'response_1_Vf_Rfs_Afs', 'evol')"
   ]
  },
  {
   "cell_type": "markdown",
   "id": "cb0e518d-62e3-4d04-b9c7-42bf5496cd49",
   "metadata": {},
   "source": [
    "# 15) Depict cummulated DART frequency evolution of one sample\n",
    "will be of use for the Q-factor extraction "
   ]
  },
  {
   "cell_type": "code",
   "execution_count": null,
   "id": "a6cdfc38-416a-41fa-b2d0-9bcbf237c83d",
   "metadata": {
    "tags": []
   },
   "outputs": [],
   "source": [
    "samplename = '16_BNZT_2p5_30'\n",
    "# ==============================================================================================\n",
    "\n",
    "datab = samples.get_SS_PFM_Object(samplename).get_All_data()\n",
    "meas = list(datab.keys())\n",
    "\n",
    "for key in meas:\n",
    "    points = list(datab[key].index)\n",
    "    figure, ax = plt.subplots(1,2)\n",
    "    figure.suptitle(key)\n",
    "    print()\n",
    "    for point in points: \n",
    "        ampOn_F = datab[key].loc[point, 'Hysteresis']['AmpOn_Frequency_mean']\n",
    "        ampOff_F = datab[key].loc[point, 'Hysteresis']['AmpOff_Frequency_mean']\n",
    "        plt.sca(ax[0])\n",
    "        plt.plot(ampOn_F)\n",
    "        plt.title('AmpOn')\n",
    "        plt.sca(ax[1])\n",
    "        plt.plot(ampOff_F)\n",
    "        plt.title('AmpOff')\n",
    "    temp = datab[key].loc[point, 'Temp']\n",
    "    figure.suptitle(f'{key} (T = {temp} °C)')\n",
    "    plt.tight_layout()"
   ]
  },
  {
   "cell_type": "markdown",
   "id": "3a42d339-88a4-453b-8d8c-b7e768b8d993",
   "metadata": {
    "tags": [],
    "toc-hr-collapsed": true
   },
   "source": [
    " # 16) Thesis figures "
   ]
  },
  {
   "cell_type": "markdown",
   "id": "b2f168cc-80eb-4cd6-9ccc-5a4e6f20cd84",
   "metadata": {},
   "source": [
    "### SS-PFM examplary rawdata"
   ]
  },
  {
   "cell_type": "code",
   "execution_count": null,
   "id": "79ec6184-ae10-4119-9ca1-5ce6ba872407",
   "metadata": {},
   "outputs": [],
   "source": [
    "'''Enter sample name below ==> This is the only part of code, \n",
    "that must be manipulated in this cell'''\n",
    "#=======================================\n",
    "samplename = '1_BZT_10' # <== Enter sample name here!\n",
    "#=======================================\n",
    "\n",
    "'''This code shall not be modified'''\n",
    "#Create a manager instance by submitting a sample object\n",
    "manag = ev.SS_PFM_manager({samplename:samples.get_SS_PFM_Object(samplename)})\n",
    "manag.set_active_obj(samplename)\n",
    "_=[print(filename) for filename in manag.get_filenames()] #List comprehension\n"
   ]
  },
  {
   "cell_type": "code",
   "execution_count": null,
   "id": "037253dd-3483-475a-8f7e-37b620094656",
   "metadata": {},
   "outputs": [],
   "source": [
    "'''Enter the row, column index and filename below ==> This is the only part of code, \n",
    "that must be manipulated in this cell'''\n",
    "#=======================================\n",
    "filename = 'BZT_10_09' # <== Enter filename here!\n",
    "line = 5 # <== Enter row index here!\n",
    "point = 5 # <== Enter column index here!\n",
    "dpi = 125\n",
    "#=======================================\n",
    "\n",
    "'''This code shall not be modified'''\n",
    "fig, axs, _ = manag.plot_Forcecurve(filename, 'AmpOff_P1_A', 'single', line=line, point=point, style='classic')\n",
    "\n",
    "axs[0,0].set_xticks([i*25-50 for i in range(5)])\n",
    "axs[0,0].set_yticks([i*30 for i in range(7)])\n",
    "axs[0,0].set_ylim(0,180)\n",
    "axs[0,0].set_xlabel('$Bias \\, [V]$', size='x-large')\n",
    "axs[0,0].set_ylabel('$Phase \\, [deg]$', size='x-large')\n",
    "axs[0,0].set_title('')\n",
    "axs[0,0].legend(loc=(0,1.02), fontsize='medium', ncol=2)\n",
    "\n",
    "axs[0,1].set_xticks([i*25-50 for i in range(5)])\n",
    "axs[0,1].set_xlabel('$Bias \\, [V]$', size='x-large')\n",
    "axs[0,1].set_ylabel('$Amplitude \\, [pm]$', size='x-large')\n",
    "axs[0,1].set_title('')\n",
    "axs[0,1].legend(loc=(0,1.02), fontsize='medium', ncol=2)\n",
    "\n",
    "plt.tight_layout()"
   ]
  },
  {
   "cell_type": "markdown",
   "id": "35d0ac72-5617-4bbf-8f9c-33bec74fab83",
   "metadata": {},
   "source": [
    "### Save the actual figure"
   ]
  },
  {
   "cell_type": "code",
   "execution_count": null,
   "id": "67a71314-b800-43c1-a688-19679c6d427f",
   "metadata": {
    "tags": []
   },
   "outputs": [],
   "source": [
    "ev.save_pyplot_figure(fig, 'SS-PFM_dataexample', ev.directory_querry(mode='dir'), kwargs_savefig=dict(dpi=dpi))"
   ]
  },
  {
   "cell_type": "markdown",
   "id": "e2dac630-7b1c-48b3-bab6-7c1db222e3d1",
   "metadata": {
    "tags": []
   },
   "source": [
    "## PFM - Resonance curve "
   ]
  },
  {
   "cell_type": "code",
   "execution_count": null,
   "id": "d603d583-4368-400a-91f1-e5ecb9f465c4",
   "metadata": {},
   "outputs": [],
   "source": [
    "'''PFM Resonance Curve'''\n",
    "dpi=150\n",
    "fA = lambda w, A_max, Q, w0: (A_max*w0**2/Q)/((w0**2-w**2)**2 + (w0*w/Q)**2)**0.5\n",
    "fphi = lambda w, Q, w0: np.arctan((w0*w)/(Q*(w0**2-w**2)))\n",
    "\n",
    "A_max = 1 #Amp at peak\n",
    "Q = 10 #Quality factor\n",
    "w0 = 1 #Resonance freq\n",
    "w = np.linspace(0,2,1001)\n",
    "A = fA(w, A_max, Q, w0)\n",
    "phi = fphi(w,Q,w0)\n",
    "phi = 180*np.hstack([phi[phi>=0], phi[phi<0]+np.pi])/np.pi\n",
    "\n",
    "#Find the dart Setpoint in graph\n",
    "dw =1e-6\n",
    "delta = 1\n",
    "w1 =w0 - 0.1\n",
    "w2 = w0 + 0.1\n",
    "A1 = fA(w1,A_max,Q,w0)\n",
    "A2 = fA(w2,A_max,Q,w0)\n",
    "while abs(delta)>1e-5:\n",
    "    if A1>A2:\n",
    "        w1-=dw\n",
    "        w2-=dw\n",
    "    else:\n",
    "        w1+=dw\n",
    "        w2+=dw\n",
    "    A1 = fA(w1,A_max,Q,w0)\n",
    "    A2 = fA(w2,A_max,Q,w0)\n",
    "    delta=A1-A2\n",
    "\n",
    "fig, ax = plt.subplots(figsize=(7,4.375), dpi=dpi)\n",
    "plt.plot(w,A, label='Amplitude')\n",
    "plt.ylim(0,1.2)\n",
    "plt.ylabel(r'$A/A_{max} \\, [-]$', fontsize='large')\n",
    "plt.xlabel(r'$\\omega /\\omega_r \\, [-]$', fontsize='large')\n",
    "plt.xlim(0,2)\n",
    "plt.legend(loc=(0.194,1.0), fontsize='medium')\n",
    "#Annotiations\n",
    "plt.scatter([w[100],w0,w[900]],[A[100],A_max,A[900]], marker='+', color='red', s=60, zorder=7)\n",
    "plt.annotate('Standard PFM', xy=(w[100], A[100]), xytext=(w[100], A[100]+0.1), arrowprops=dict(arrowstyle='->'),fontsize=12)\n",
    "plt.annotate('High frequency PFM', xy=(w[900], A[900]), xytext=(w[720]-0.1, A[900]+0.1), arrowprops=dict(arrowstyle='->'),fontsize=12)\n",
    "plt.annotate('Resonance PFM', xy=(w0, A_max), xytext=(w0-0.4, A_max+0.11), arrowprops=dict(arrowstyle='->'),fontsize=12)\n",
    "plt.vlines(w1,0,A1, color='green', ls=':', lw=1.5)\n",
    "plt.vlines(w2,0,A2, color='green', ls=':', lw=1.5)\n",
    "plt.arrow((w2+w1)/2, 0.10,(w2-w1)/2,0, head_width=0.02, length_includes_head=True, color='green')\n",
    "plt.arrow((w2+w1)/2, 0.10,-(w2-w1)/2,0, head_width=0.02, length_includes_head=True, color='green')\n",
    "plt.scatter([w1,w2],[A1,A2],color='green', zorder=7, s=25)\n",
    "plt.scatter([w1,w2],[0,0],color='green', zorder=7, s=20)\n",
    "plt.text(1,0.12,r'$\\Delta \\omega$', ha='center', fontsize=12)\n",
    "plt.text(1.52,0.83,r'$A(\\omega ) = \\frac{A_{max} \\, \\omega_r^2/Q}{\\sqrt{\\left(\\omega_r^2-\\omega^2\\right)^2+\\left(\\omega_r \\, \\omega /Q\\right)^2}}$', \n",
    "         ha='center', fontsize=17,zorder=8)\n",
    "plt.text(0.5,0.7,r'$tan\\,\\phi(\\omega ) = \\frac{\\omega_r \\, \\omega}{Q\\left(\\omega_r^2-\\omega^2\\right)}$', \n",
    "         ha='center', fontsize=17,zorder=8)\n",
    "plt.text(w1-0.06, A1, r'$A_1$', fontsize=12,ha='center')\n",
    "plt.text(w2+0.07, A2, r'$A_2$', fontsize=12,ha='center')\n",
    "plt.text(w1-0.05, 0.025, r'$\\omega_1$', fontsize=12,ha='center')\n",
    "plt.text(w2+0.05, 0.025, r'$\\omega_2$', fontsize=12,ha='center')\n",
    "plt.annotate('DART', xy=(1.04, 0.18), xytext=(1.35, 0.3), arrowprops=dict(arrowstyle='->',color='green', linewidth=1.5),fontsize=14,color='green')\n",
    "\n",
    "#Twin axis\n",
    "ax.set_zorder(ax.get_zorder()+1) #important! sets the first axis on the uppest layer \n",
    "ax.patch.set_visible(False)\n",
    "ax2=ax.twinx()\n",
    "ax2.plot(w,phi, color='orangered', ls='--', label='Phase', zorder=0)\n",
    "plt.sca(ax2)\n",
    "plt.ylim((0,180))\n",
    "plt.legend(loc=(0.0,1.0), fontsize='medium')\n",
    "plt.ylabel(r'$\\phi [deg]$', fontsize='large')\n",
    "\n",
    "plt.tight_layout(pad=0.2)"
   ]
  },
  {
   "cell_type": "markdown",
   "id": "8db3f562-4b20-43b6-8a57-585e2af05e57",
   "metadata": {},
   "source": [
    "### Save the actual figure"
   ]
  },
  {
   "cell_type": "code",
   "execution_count": null,
   "id": "33627ed2-fb02-45ae-9af5-e3c9d2c017b1",
   "metadata": {
    "tags": []
   },
   "outputs": [],
   "source": [
    "ev.save_pyplot_figure(fig, 'PFM_ResonanceCurve', ev.directory_querry(mode='dir'), kwargs_savefig=dict(dpi=dpi))"
   ]
  },
  {
   "cell_type": "markdown",
   "id": "426dc380-cc37-4938-ba9d-b8e604c1855f",
   "metadata": {
    "tags": []
   },
   "source": [
    "## PFM - Tune"
   ]
  },
  {
   "cell_type": "code",
   "execution_count": null,
   "id": "9fb848f5-a909-4608-a344-67d1fb8e3115",
   "metadata": {},
   "outputs": [],
   "source": [
    "'''PFM Tune'''\n",
    "dpi=150\n",
    "\n",
    "# Reading in \n",
    "df_tune = pd.read_csv('PFM_tune.csv')\n",
    "f = np.array(df_tune['Frequency']) / 1e3\n",
    "phi_low, phi_high = np.hsplit(np.array(df_tune['Phase']),2)\n",
    "A = np.array(df_tune['Amp']) * 1e3\n",
    "\n",
    "# Phi correction \n",
    "phi_low[phi_low > 180] = phi_low[phi_low > 180] - 360\n",
    "phi_high[phi_high < -30] = phi_high[phi_high < -30] + 360\n",
    "phi = np.concatenate([phi_low, phi_high])\n",
    "\n",
    "# Amp Plot\n",
    "fig, ax = plt.subplots(figsize=(7,4.375), dpi=dpi)\n",
    "plt.plot(f, A, label='Amplitude')\n",
    "plt.ylim(0, 3.5)\n",
    "plt.ylabel(r'$Amplitude \\, [mV\\,]$', fontsize='large')\n",
    "plt.xlabel(r'$Frequency \\, [kHz]$', fontsize='large')\n",
    "plt.xlim(0, 2e3)\n",
    "plt.legend(loc=(0.21,1.0), fontsize='medium')\n",
    "\n",
    "# Twinx phase\n",
    "ax.set_zorder(ax.get_zorder()+1) #important! sets the first axis on the uppest layer \n",
    "ax.patch.set_visible(False)\n",
    "ax2=ax.twinx()\n",
    "ax2.plot(f,phi, color='orangered', label='Phase', zorder=0)\n",
    "plt.sca(ax2)\n",
    "plt.ylim((-180,270))\n",
    "plt.legend(loc=(0.0,1.0), fontsize='medium')\n",
    "plt.ylabel(r'$Phase \\, [deg]$', fontsize='large')\n",
    "ax2.set_yticks([i*90-180 for i in range(6)])\n",
    "\n",
    "plt.tight_layout()"
   ]
  },
  {
   "cell_type": "markdown",
   "id": "a1675a7e-b294-4a84-ada9-d61652b6659b",
   "metadata": {},
   "source": [
    "### Save the actual figure"
   ]
  },
  {
   "cell_type": "code",
   "execution_count": null,
   "id": "5f60dfcd-63bc-4ecb-801f-cafe52b4fbd2",
   "metadata": {
    "tags": []
   },
   "outputs": [],
   "source": [
    "ev.save_pyplot_figure(fig, 'PFM-Tune', ev.directory_querry(mode='dir'), kwargs_savefig=dict(dpi=dpi))"
   ]
  },
  {
   "cell_type": "markdown",
   "id": "0af6c69e-867e-4a0c-b98d-3d3c4e0342ca",
   "metadata": {},
   "source": [
    "# 17) BibLatex Cleaning"
   ]
  },
  {
   "cell_type": "code",
   "execution_count": null,
   "id": "d3791fe8-f899-4394-831b-dd58e89792f6",
   "metadata": {},
   "outputs": [],
   "source": [
    "filename = ev.directory_querry()"
   ]
  },
  {
   "cell_type": "code",
   "execution_count": null,
   "id": "7edbbdde-1a22-4938-8e55-9fb26d7b7f0d",
   "metadata": {},
   "outputs": [],
   "source": [
    "with open(filename, encoding=\"utf8\") as file:\n",
    "    txt = file.readlines()"
   ]
  },
  {
   "cell_type": "code",
   "execution_count": null,
   "id": "08a92dae-78ed-46bb-84ba-d19f0db353df",
   "metadata": {
    "tags": []
   },
   "outputs": [],
   "source": [
    "citations = []\n",
    "citation = []\n",
    "\n",
    "# Pack the citation\n",
    "for line in txt: \n",
    "    if line == '}\\n':\n",
    "        citation.append(line)\n",
    "        citations.append(citation)\n",
    "        citation = []\n",
    "    else: \n",
    "        citation.append(line)   \n",
    "\n",
    "\n",
    "for citation in citations: \n",
    "    "
   ]
  },
  {
   "cell_type": "code",
   "execution_count": null,
   "id": "7389ea4b-8164-4446-82e0-e223c44f1449",
   "metadata": {},
   "outputs": [],
   "source": []
  },
  {
   "cell_type": "code",
   "execution_count": null,
   "id": "6168555c-4fa1-4a86-9a61-65fb483d8b72",
   "metadata": {},
   "outputs": [],
   "source": [
    "citations[1]"
   ]
  }
 ],
 "metadata": {
  "kernelspec": {
   "display_name": "Python 3 (ipykernel)",
   "language": "python",
   "name": "python3"
  },
  "language_info": {
   "codemirror_mode": {
    "name": "ipython",
    "version": 3
   },
   "file_extension": ".py",
   "mimetype": "text/x-python",
   "name": "python",
   "nbconvert_exporter": "python",
   "pygments_lexer": "ipython3",
   "version": "3.9.13"
  },
  "toc-autonumbering": false,
  "toc-showcode": false,
  "toc-showmarkdowntxt": false,
  "toc-showtags": false,
  "vscode": {
   "interpreter": {
    "hash": "ad2bdc8ecc057115af97d19610ffacc2b4e99fae6737bb82f5d7fb13d2f2c186"
   }
  }
 },
 "nbformat": 4,
 "nbformat_minor": 5
}
